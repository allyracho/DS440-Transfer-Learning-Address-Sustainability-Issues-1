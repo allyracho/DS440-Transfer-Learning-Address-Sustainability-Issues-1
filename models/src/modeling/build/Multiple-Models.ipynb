{
 "cells": [
  {
   "cell_type": "markdown",
   "id": "48d18c23",
   "metadata": {},
   "source": [
    "## Import Dependencies & Azure Keys"
   ]
  },
  {
   "cell_type": "code",
   "execution_count": 1,
   "id": "8253fbf3",
   "metadata": {},
   "outputs": [],
   "source": [
    "import pandas as pd\n",
    "import pyodbc\n",
    "import os\n",
    "from sklearn.ensemble import RandomForestRegressor\n",
    "import warnings\n",
    "warnings.filterwarnings(\"ignore\") # Get rid of warnings        \n",
    "from sklearn.decomposition import PCA\n",
    "import tensorflow as tf\n",
    "import matplotlib.pyplot as plt\n",
    "import numpy as np\n",
    "from faker import Faker # Make Synthetic Data\n",
    "from sdv.tabular import GaussianCopula\n",
    "from sklearn.svm import SVR\n",
    "\n",
    "##* Azure Keys (Don't Share) *##\n",
    "server = 'sustprediction.database.windows.net'\n",
    "database = 'sustainability'\n",
    "username = 'capstone'\n",
    "password = '{ds440@grp6}'   \n",
    "driver= '{ODBC Driver 17 for SQL Server}'"
   ]
  },
  {
   "cell_type": "markdown",
   "id": "b759a979",
   "metadata": {},
   "source": [
    "## Fetch Data NYC, Chicago, Philadelphia Version 2\n",
    "\n",
    "Retrieve NYC data from Azure SQL Database\n",
    "\n",
    "🔑 Stores Data On RAM\n"
   ]
  },
  {
   "cell_type": "code",
   "execution_count": 2,
   "id": "9c9f776a",
   "metadata": {},
   "outputs": [],
   "source": [
    "def nyc_v2():\n",
    "    \"\"\"\n",
    "    1. Get the dataset as dataframe.\n",
    "    2. Get the column names for the dataset separately from Azure.\n",
    "    \"\"\"\n",
    "\n",
    "    conn = pyodbc.connect('DRIVER='+driver+';SERVER=tcp:'+server+';PORT=1433;DATABASE='+database+';UID='+username+';PWD='+ password)\n",
    "\n",
    "    # NYC V2 Data\n",
    "    nyc = conn.cursor().execute(\"SELECT * FROM dbo.newyork_v2\").fetchall() \n",
    "    columns = conn.cursor().execute(\"SELECT * FROM sys.columns WHERE object_id = OBJECT_ID('dbo.newyork_v2')\").fetchall()\n",
    "    columns_df = pd.DataFrame([tuple(t) for t in columns])\n",
    "    list_names = list(columns_df[1])\n",
    "    nyc_df = pd.DataFrame([tuple(t) for t in nyc], columns = list_names)\n",
    "    return nyc_df"
   ]
  },
  {
   "cell_type": "code",
   "execution_count": 3,
   "id": "e6365a41",
   "metadata": {},
   "outputs": [],
   "source": [
    "def chicago_v2():\n",
    "    \"\"\"\n",
    "    1. Get the dataset as dataframe.\n",
    "    2. Get the column names for the dataset separately from Azure.\n",
    "    \"\"\"\n",
    "\n",
    "    conn = pyodbc.connect('DRIVER='+driver+';SERVER=tcp:'+server+';PORT=1433;DATABASE='+database+';UID='+username+';PWD='+ password)\n",
    "\n",
    "    # NYC V2 Data\n",
    "    chic = conn.cursor().execute(\"SELECT * FROM dbo.ChicagoFeatures_V2\").fetchall() \n",
    "    columns = conn.cursor().execute(\"SELECT * FROM sys.columns WHERE object_id = OBJECT_ID('dbo.ChicagoFeatures_V2')\").fetchall()\n",
    "    columns_df = pd.DataFrame([tuple(t) for t in columns])\n",
    "    list_names = list(columns_df[1])\n",
    "    chic_df = pd.DataFrame([tuple(t) for t in chic], columns = list_names)\n",
    "    return chic_df"
   ]
  },
  {
   "cell_type": "code",
   "execution_count": 4,
   "id": "6478a9b7",
   "metadata": {},
   "outputs": [],
   "source": [
    "def philly_v2():\n",
    "    \"\"\"\n",
    "    1. Get the dataset as dataframe.\n",
    "    2. Get the column names for the dataset separately from Azure.\n",
    "    \"\"\"\n",
    "\n",
    "    conn = pyodbc.connect('DRIVER='+driver+';SERVER=tcp:'+server+';PORT=1433;DATABASE='+database+';UID='+username+';PWD='+ password)\n",
    "\n",
    "    # NYC V2 Data\n",
    "    chic = conn.cursor().execute(\"SELECT * FROM dbo.PhillyFeatures_V2\").fetchall() \n",
    "    columns = conn.cursor().execute(\"SELECT * FROM sys.columns WHERE object_id = OBJECT_ID('dbo.PhillyFeatures_V2')\").fetchall()\n",
    "    columns_df = pd.DataFrame([tuple(t) for t in columns])\n",
    "    list_names = list(columns_df[1])\n",
    "    chic_df = pd.DataFrame([tuple(t) for t in chic], columns = list_names)\n",
    "    return chic_df"
   ]
  },
  {
   "cell_type": "code",
   "execution_count": 5,
   "id": "fb27a949",
   "metadata": {
    "scrolled": false
   },
   "outputs": [],
   "source": [
    "# Get Data\n",
    "nyc_data = nyc_v2()\n",
    "chicago_data = chicago_v2()\n",
    "philly_data = philly_v2()"
   ]
  },
  {
   "cell_type": "code",
   "execution_count": 6,
   "id": "0bcd5ebf",
   "metadata": {
    "scrolled": false
   },
   "outputs": [
    {
     "name": "stdout",
     "output_type": "stream",
     "text": [
      "NYC Dataset:\n"
     ]
    },
    {
     "data": {
      "text/html": [
       "<div>\n",
       "<style scoped>\n",
       "    .dataframe tbody tr th:only-of-type {\n",
       "        vertical-align: middle;\n",
       "    }\n",
       "\n",
       "    .dataframe tbody tr th {\n",
       "        vertical-align: top;\n",
       "    }\n",
       "\n",
       "    .dataframe thead th {\n",
       "        text-align: right;\n",
       "    }\n",
       "</style>\n",
       "<table border=\"1\" class=\"dataframe\">\n",
       "  <thead>\n",
       "    <tr style=\"text-align: right;\">\n",
       "      <th></th>\n",
       "      <th>year</th>\n",
       "      <th>week</th>\n",
       "      <th>new_york_city_diesel_average_gal</th>\n",
       "      <th>new_york_city_gas_average_gal</th>\n",
       "      <th>tempmax</th>\n",
       "      <th>tempmin</th>\n",
       "      <th>temp</th>\n",
       "      <th>feelslikemax</th>\n",
       "      <th>feelslikemin</th>\n",
       "      <th>feelslike</th>\n",
       "      <th>...</th>\n",
       "      <th>Unique_Drivers</th>\n",
       "      <th>Unique_Vehicles</th>\n",
       "      <th>Vehicles_Per_Day</th>\n",
       "      <th>Avg_Days_Vehicles_on_Road</th>\n",
       "      <th>Avg_Hours_Per_Day_Per_Vehicle</th>\n",
       "      <th>Avg_Days_Drivers_on_Road</th>\n",
       "      <th>Avg_Hours_Per_Day_Per_Driver</th>\n",
       "      <th>Avg_Minutes_Per_Trip</th>\n",
       "      <th>pm25</th>\n",
       "      <th>aqi</th>\n",
       "    </tr>\n",
       "  </thead>\n",
       "  <tbody>\n",
       "    <tr>\n",
       "      <th>0</th>\n",
       "      <td>2018</td>\n",
       "      <td>1</td>\n",
       "      <td>3.15</td>\n",
       "      <td>2.72</td>\n",
       "      <td>22.383333</td>\n",
       "      <td>12.433333</td>\n",
       "      <td>17.166667</td>\n",
       "      <td>13.2</td>\n",
       "      <td>-2.583333</td>\n",
       "      <td>4.55</td>\n",
       "      <td>...</td>\n",
       "      <td>7464</td>\n",
       "      <td>7410</td>\n",
       "      <td>3778</td>\n",
       "      <td>15.8</td>\n",
       "      <td>3.4</td>\n",
       "      <td>15.7</td>\n",
       "      <td>3.4</td>\n",
       "      <td>35</td>\n",
       "      <td>51.666667</td>\n",
       "      <td>34.142857</td>\n",
       "    </tr>\n",
       "    <tr>\n",
       "      <th>1</th>\n",
       "      <td>2018</td>\n",
       "      <td>1</td>\n",
       "      <td>3.15</td>\n",
       "      <td>2.72</td>\n",
       "      <td>22.383333</td>\n",
       "      <td>12.433333</td>\n",
       "      <td>17.166667</td>\n",
       "      <td>13.2</td>\n",
       "      <td>-2.583333</td>\n",
       "      <td>4.55</td>\n",
       "      <td>...</td>\n",
       "      <td>72719</td>\n",
       "      <td>71484</td>\n",
       "      <td>46403</td>\n",
       "      <td>20.1</td>\n",
       "      <td>6.2</td>\n",
       "      <td>19.9</td>\n",
       "      <td>6.1</td>\n",
       "      <td>18</td>\n",
       "      <td>51.666667</td>\n",
       "      <td>34.142857</td>\n",
       "    </tr>\n",
       "    <tr>\n",
       "      <th>2</th>\n",
       "      <td>2018</td>\n",
       "      <td>1</td>\n",
       "      <td>3.15</td>\n",
       "      <td>2.72</td>\n",
       "      <td>22.383333</td>\n",
       "      <td>12.433333</td>\n",
       "      <td>17.166667</td>\n",
       "      <td>13.2</td>\n",
       "      <td>-2.583333</td>\n",
       "      <td>4.55</td>\n",
       "      <td>...</td>\n",
       "      <td>13961</td>\n",
       "      <td>12751</td>\n",
       "      <td>8389</td>\n",
       "      <td>20.4</td>\n",
       "      <td>5.4</td>\n",
       "      <td>19.0</td>\n",
       "      <td>5.3</td>\n",
       "      <td>17</td>\n",
       "      <td>51.666667</td>\n",
       "      <td>34.142857</td>\n",
       "    </tr>\n",
       "    <tr>\n",
       "      <th>3</th>\n",
       "      <td>2018</td>\n",
       "      <td>1</td>\n",
       "      <td>3.15</td>\n",
       "      <td>2.72</td>\n",
       "      <td>22.383333</td>\n",
       "      <td>12.433333</td>\n",
       "      <td>17.166667</td>\n",
       "      <td>13.2</td>\n",
       "      <td>-2.583333</td>\n",
       "      <td>4.55</td>\n",
       "      <td>...</td>\n",
       "      <td>3385</td>\n",
       "      <td>3299</td>\n",
       "      <td>1378</td>\n",
       "      <td>13.0</td>\n",
       "      <td>2.2</td>\n",
       "      <td>13.1</td>\n",
       "      <td>2.2</td>\n",
       "      <td>63</td>\n",
       "      <td>51.666667</td>\n",
       "      <td>34.142857</td>\n",
       "    </tr>\n",
       "    <tr>\n",
       "      <th>4</th>\n",
       "      <td>2018</td>\n",
       "      <td>1</td>\n",
       "      <td>3.15</td>\n",
       "      <td>2.72</td>\n",
       "      <td>22.383333</td>\n",
       "      <td>12.433333</td>\n",
       "      <td>17.166667</td>\n",
       "      <td>13.2</td>\n",
       "      <td>-2.583333</td>\n",
       "      <td>4.55</td>\n",
       "      <td>...</td>\n",
       "      <td>4377</td>\n",
       "      <td>4021</td>\n",
       "      <td>2983</td>\n",
       "      <td>23.0</td>\n",
       "      <td>5.7</td>\n",
       "      <td>21.6</td>\n",
       "      <td>5.5</td>\n",
       "      <td>128</td>\n",
       "      <td>51.666667</td>\n",
       "      <td>34.142857</td>\n",
       "    </tr>\n",
       "  </tbody>\n",
       "</table>\n",
       "<p>5 rows × 34 columns</p>\n",
       "</div>"
      ],
      "text/plain": [
       "   year  week  new_york_city_diesel_average_gal  \\\n",
       "0  2018     1                              3.15   \n",
       "1  2018     1                              3.15   \n",
       "2  2018     1                              3.15   \n",
       "3  2018     1                              3.15   \n",
       "4  2018     1                              3.15   \n",
       "\n",
       "   new_york_city_gas_average_gal    tempmax    tempmin       temp  \\\n",
       "0                           2.72  22.383333  12.433333  17.166667   \n",
       "1                           2.72  22.383333  12.433333  17.166667   \n",
       "2                           2.72  22.383333  12.433333  17.166667   \n",
       "3                           2.72  22.383333  12.433333  17.166667   \n",
       "4                           2.72  22.383333  12.433333  17.166667   \n",
       "\n",
       "   feelslikemax  feelslikemin  feelslike  ...  Unique_Drivers  \\\n",
       "0          13.2     -2.583333       4.55  ...            7464   \n",
       "1          13.2     -2.583333       4.55  ...           72719   \n",
       "2          13.2     -2.583333       4.55  ...           13961   \n",
       "3          13.2     -2.583333       4.55  ...            3385   \n",
       "4          13.2     -2.583333       4.55  ...            4377   \n",
       "\n",
       "   Unique_Vehicles  Vehicles_Per_Day  Avg_Days_Vehicles_on_Road  \\\n",
       "0             7410              3778                       15.8   \n",
       "1            71484             46403                       20.1   \n",
       "2            12751              8389                       20.4   \n",
       "3             3299              1378                       13.0   \n",
       "4             4021              2983                       23.0   \n",
       "\n",
       "   Avg_Hours_Per_Day_Per_Vehicle  Avg_Days_Drivers_on_Road  \\\n",
       "0                            3.4                      15.7   \n",
       "1                            6.2                      19.9   \n",
       "2                            5.4                      19.0   \n",
       "3                            2.2                      13.1   \n",
       "4                            5.7                      21.6   \n",
       "\n",
       "   Avg_Hours_Per_Day_Per_Driver  Avg_Minutes_Per_Trip       pm25        aqi  \n",
       "0                           3.4                    35  51.666667  34.142857  \n",
       "1                           6.1                    18  51.666667  34.142857  \n",
       "2                           5.3                    17  51.666667  34.142857  \n",
       "3                           2.2                    63  51.666667  34.142857  \n",
       "4                           5.5                   128  51.666667  34.142857  \n",
       "\n",
       "[5 rows x 34 columns]"
      ]
     },
     "execution_count": 6,
     "metadata": {},
     "output_type": "execute_result"
    }
   ],
   "source": [
    "print(f\"NYC Dataset:\")\n",
    "nyc_data.head()"
   ]
  },
  {
   "cell_type": "code",
   "execution_count": 7,
   "id": "30e82c91",
   "metadata": {},
   "outputs": [
    {
     "name": "stdout",
     "output_type": "stream",
     "text": [
      "Total Number of Columns in NYC Dataset: 34\n"
     ]
    }
   ],
   "source": [
    "print(f\"Total Number of Columns in NYC Dataset: {len(nyc_data.columns)}\")"
   ]
  },
  {
   "cell_type": "code",
   "execution_count": 8,
   "id": "fcaece25",
   "metadata": {
    "scrolled": true
   },
   "outputs": [
    {
     "name": "stdout",
     "output_type": "stream",
     "text": [
      "Chicago Dataset:\n"
     ]
    },
    {
     "data": {
      "text/html": [
       "<div>\n",
       "<style scoped>\n",
       "    .dataframe tbody tr th:only-of-type {\n",
       "        vertical-align: middle;\n",
       "    }\n",
       "\n",
       "    .dataframe tbody tr th {\n",
       "        vertical-align: top;\n",
       "    }\n",
       "\n",
       "    .dataframe thead th {\n",
       "        text-align: right;\n",
       "    }\n",
       "</style>\n",
       "<table border=\"1\" class=\"dataframe\">\n",
       "  <thead>\n",
       "    <tr style=\"text-align: right;\">\n",
       "      <th></th>\n",
       "      <th>ID</th>\n",
       "      <th>week</th>\n",
       "      <th>month</th>\n",
       "      <th>year</th>\n",
       "      <th>County</th>\n",
       "      <th>AQI_Weekly_Measurement</th>\n",
       "      <th>City</th>\n",
       "      <th>Weather_TMAX</th>\n",
       "      <th>Weather_TMIN</th>\n",
       "      <th>Weather_AWND</th>\n",
       "      <th>...</th>\n",
       "      <th>avg_weekday_rides</th>\n",
       "      <th>avg_saturday_rides</th>\n",
       "      <th>avg_sunday_holiday_rides</th>\n",
       "      <th>Pollution_pm25</th>\n",
       "      <th>Pollution_o3</th>\n",
       "      <th>traffic_taxi_trip_miles</th>\n",
       "      <th>traffic_taxi_trip_totals</th>\n",
       "      <th>traffic_rideshare_miles</th>\n",
       "      <th>traffic_speed</th>\n",
       "      <th>traffic_bus_count</th>\n",
       "    </tr>\n",
       "  </thead>\n",
       "  <tbody>\n",
       "    <tr>\n",
       "      <th>0</th>\n",
       "      <td>1</td>\n",
       "      <td>1</td>\n",
       "      <td>1</td>\n",
       "      <td>2018</td>\n",
       "      <td>Cook</td>\n",
       "      <td>9.62651296829971</td>\n",
       "      <td>Chicago</td>\n",
       "      <td>14.666667</td>\n",
       "      <td>-0.523810</td>\n",
       "      <td>10.822381</td>\n",
       "      <td>...</td>\n",
       "      <td>5747.62598425197</td>\n",
       "      <td>3250.55354330709</td>\n",
       "      <td>2213.89921259843</td>\n",
       "      <td>37.7142857142857</td>\n",
       "      <td>18.7142857142857</td>\n",
       "      <td>2.43572</td>\n",
       "      <td>12.77078</td>\n",
       "      <td>NA</td>\n",
       "      <td>NA</td>\n",
       "      <td>NA</td>\n",
       "    </tr>\n",
       "    <tr>\n",
       "      <th>1</th>\n",
       "      <td>2</td>\n",
       "      <td>1</td>\n",
       "      <td>1</td>\n",
       "      <td>2019</td>\n",
       "      <td>Cook</td>\n",
       "      <td>9.31444759206799</td>\n",
       "      <td>Chicago</td>\n",
       "      <td>43.571429</td>\n",
       "      <td>30.428571</td>\n",
       "      <td>9.788571</td>\n",
       "      <td>...</td>\n",
       "      <td>5215.42063492064</td>\n",
       "      <td>2968.97619047619</td>\n",
       "      <td>2214.43015873016</td>\n",
       "      <td>NA</td>\n",
       "      <td>17</td>\n",
       "      <td>2.41248</td>\n",
       "      <td>14.25623</td>\n",
       "      <td>NA</td>\n",
       "      <td>NA</td>\n",
       "      <td>NA</td>\n",
       "    </tr>\n",
       "    <tr>\n",
       "      <th>2</th>\n",
       "      <td>3</td>\n",
       "      <td>1</td>\n",
       "      <td>1</td>\n",
       "      <td>2020</td>\n",
       "      <td>Cook</td>\n",
       "      <td>7.49961904761905</td>\n",
       "      <td>Chicago</td>\n",
       "      <td>42.095238</td>\n",
       "      <td>28.238095</td>\n",
       "      <td>10.151905</td>\n",
       "      <td>...</td>\n",
       "      <td>5956.0168</td>\n",
       "      <td>3047.0928</td>\n",
       "      <td>2302.7584</td>\n",
       "      <td>22.8333333333333</td>\n",
       "      <td>NA</td>\n",
       "      <td>2.53537</td>\n",
       "      <td>14.34805</td>\n",
       "      <td>5.993556662</td>\n",
       "      <td>NA</td>\n",
       "      <td>NA</td>\n",
       "    </tr>\n",
       "    <tr>\n",
       "      <th>3</th>\n",
       "      <td>4</td>\n",
       "      <td>1</td>\n",
       "      <td>1</td>\n",
       "      <td>2021</td>\n",
       "      <td>Cook</td>\n",
       "      <td>16.980790960452</td>\n",
       "      <td>Chicago</td>\n",
       "      <td>35.666667</td>\n",
       "      <td>27.428571</td>\n",
       "      <td>7.264762</td>\n",
       "      <td>...</td>\n",
       "      <td>2147.44435483871</td>\n",
       "      <td>1544.74193548387</td>\n",
       "      <td>1072.21451612903</td>\n",
       "      <td>49</td>\n",
       "      <td>NA</td>\n",
       "      <td>5.50142</td>\n",
       "      <td>20.96997</td>\n",
       "      <td>NA</td>\n",
       "      <td>NA</td>\n",
       "      <td>NA</td>\n",
       "    </tr>\n",
       "    <tr>\n",
       "      <th>4</th>\n",
       "      <td>5</td>\n",
       "      <td>2</td>\n",
       "      <td>1</td>\n",
       "      <td>2018</td>\n",
       "      <td>Cook</td>\n",
       "      <td>11.8994535519126</td>\n",
       "      <td>Chicago</td>\n",
       "      <td>35.809524</td>\n",
       "      <td>19.380952</td>\n",
       "      <td>12.282857</td>\n",
       "      <td>...</td>\n",
       "      <td>NA</td>\n",
       "      <td>NA</td>\n",
       "      <td>NA</td>\n",
       "      <td>37.4285714285714</td>\n",
       "      <td>18.8571428571429</td>\n",
       "      <td>NA</td>\n",
       "      <td>NA</td>\n",
       "      <td>NA</td>\n",
       "      <td>NA</td>\n",
       "      <td>NA</td>\n",
       "    </tr>\n",
       "  </tbody>\n",
       "</table>\n",
       "<p>5 rows × 21 columns</p>\n",
       "</div>"
      ],
      "text/plain": [
       "   ID  week  month  year County AQI_Weekly_Measurement     City  Weather_TMAX  \\\n",
       "0   1     1      1  2018   Cook       9.62651296829971  Chicago     14.666667   \n",
       "1   2     1      1  2019   Cook       9.31444759206799  Chicago     43.571429   \n",
       "2   3     1      1  2020   Cook       7.49961904761905  Chicago     42.095238   \n",
       "3   4     1      1  2021   Cook        16.980790960452  Chicago     35.666667   \n",
       "4   5     2      1  2018   Cook       11.8994535519126  Chicago     35.809524   \n",
       "\n",
       "   Weather_TMIN  Weather_AWND  ...  avg_weekday_rides avg_saturday_rides  \\\n",
       "0     -0.523810     10.822381  ...   5747.62598425197   3250.55354330709   \n",
       "1     30.428571      9.788571  ...   5215.42063492064   2968.97619047619   \n",
       "2     28.238095     10.151905  ...          5956.0168          3047.0928   \n",
       "3     27.428571      7.264762  ...   2147.44435483871   1544.74193548387   \n",
       "4     19.380952     12.282857  ...                 NA                 NA   \n",
       "\n",
       "  avg_sunday_holiday_rides    Pollution_pm25      Pollution_o3  \\\n",
       "0         2213.89921259843  37.7142857142857  18.7142857142857   \n",
       "1         2214.43015873016                NA                17   \n",
       "2                2302.7584  22.8333333333333                NA   \n",
       "3         1072.21451612903                49                NA   \n",
       "4                       NA  37.4285714285714  18.8571428571429   \n",
       "\n",
       "  traffic_taxi_trip_miles traffic_taxi_trip_totals traffic_rideshare_miles  \\\n",
       "0                 2.43572                 12.77078                      NA   \n",
       "1                 2.41248                 14.25623                      NA   \n",
       "2                 2.53537                 14.34805             5.993556662   \n",
       "3                 5.50142                 20.96997                      NA   \n",
       "4                      NA                       NA                      NA   \n",
       "\n",
       "  traffic_speed traffic_bus_count  \n",
       "0            NA                NA  \n",
       "1            NA                NA  \n",
       "2            NA                NA  \n",
       "3            NA                NA  \n",
       "4            NA                NA  \n",
       "\n",
       "[5 rows x 21 columns]"
      ]
     },
     "execution_count": 8,
     "metadata": {},
     "output_type": "execute_result"
    }
   ],
   "source": [
    "print(f\"Chicago Dataset:\")\n",
    "chicago_data.head()"
   ]
  },
  {
   "cell_type": "code",
   "execution_count": 9,
   "id": "c566cefe",
   "metadata": {},
   "outputs": [
    {
     "name": "stdout",
     "output_type": "stream",
     "text": [
      "Total Number of Columns in Chicago Dataset: 21\n"
     ]
    }
   ],
   "source": [
    "print(f\"Total Number of Columns in Chicago Dataset: {len(chicago_data.columns)}\")"
   ]
  },
  {
   "cell_type": "code",
   "execution_count": 10,
   "id": "b8dabea8",
   "metadata": {
    "scrolled": true
   },
   "outputs": [
    {
     "name": "stdout",
     "output_type": "stream",
     "text": [
      "Philly Dataset:\n"
     ]
    },
    {
     "data": {
      "text/html": [
       "<div>\n",
       "<style scoped>\n",
       "    .dataframe tbody tr th:only-of-type {\n",
       "        vertical-align: middle;\n",
       "    }\n",
       "\n",
       "    .dataframe tbody tr th {\n",
       "        vertical-align: top;\n",
       "    }\n",
       "\n",
       "    .dataframe thead th {\n",
       "        text-align: right;\n",
       "    }\n",
       "</style>\n",
       "<table border=\"1\" class=\"dataframe\">\n",
       "  <thead>\n",
       "    <tr style=\"text-align: right;\">\n",
       "      <th></th>\n",
       "      <th>ID</th>\n",
       "      <th>week</th>\n",
       "      <th>month</th>\n",
       "      <th>year</th>\n",
       "      <th>County</th>\n",
       "      <th>City</th>\n",
       "      <th>AQI_Weekly_Measurement</th>\n",
       "      <th>Weather_TMAX</th>\n",
       "      <th>Weather_TMIN</th>\n",
       "      <th>Weather_AWND</th>\n",
       "      <th>Weather_PRCP</th>\n",
       "      <th>traffic_bike_counts</th>\n",
       "      <th>Pollution_pm25</th>\n",
       "      <th>Pollution_o3</th>\n",
       "      <th>Pollution_no2</th>\n",
       "      <th>Pollution_so2</th>\n",
       "      <th>Pollution_co</th>\n",
       "      <th>traffic_ped_counts</th>\n",
       "      <th>traffic_vehicle_counts</th>\n",
       "    </tr>\n",
       "  </thead>\n",
       "  <tbody>\n",
       "    <tr>\n",
       "      <th>0</th>\n",
       "      <td>1</td>\n",
       "      <td>1</td>\n",
       "      <td>1</td>\n",
       "      <td>2018</td>\n",
       "      <td>Philadelphia</td>\n",
       "      <td>Philadelphia</td>\n",
       "      <td>9.60100502512563</td>\n",
       "      <td>23.000000</td>\n",
       "      <td>9.142857</td>\n",
       "      <td>12.175714</td>\n",
       "      <td>0.020000</td>\n",
       "      <td>NA</td>\n",
       "      <td>38.7142857142857</td>\n",
       "      <td>22.7142857142857</td>\n",
       "      <td>11.7142857142857</td>\n",
       "      <td>NA</td>\n",
       "      <td>1.85714285714286</td>\n",
       "      <td>NA</td>\n",
       "      <td>NA</td>\n",
       "    </tr>\n",
       "    <tr>\n",
       "      <th>1</th>\n",
       "      <td>2</td>\n",
       "      <td>1</td>\n",
       "      <td>1</td>\n",
       "      <td>2019</td>\n",
       "      <td>Philadelphia</td>\n",
       "      <td>Philadelphia</td>\n",
       "      <td>6.76766826923077</td>\n",
       "      <td>48.714286</td>\n",
       "      <td>35.285714</td>\n",
       "      <td>8.212857</td>\n",
       "      <td>0.082857</td>\n",
       "      <td>NA</td>\n",
       "      <td>NA</td>\n",
       "      <td>17.4285714285714</td>\n",
       "      <td>11.1428571428571</td>\n",
       "      <td>NA</td>\n",
       "      <td>2.14285714285714</td>\n",
       "      <td>NA</td>\n",
       "      <td>NA</td>\n",
       "    </tr>\n",
       "    <tr>\n",
       "      <th>2</th>\n",
       "      <td>3</td>\n",
       "      <td>1</td>\n",
       "      <td>1</td>\n",
       "      <td>2020</td>\n",
       "      <td>Philadelphia</td>\n",
       "      <td>Philadelphia</td>\n",
       "      <td>9.12906976744186</td>\n",
       "      <td>49.000000</td>\n",
       "      <td>34.571429</td>\n",
       "      <td>7.350000</td>\n",
       "      <td>0.058571</td>\n",
       "      <td>NA</td>\n",
       "      <td>NA</td>\n",
       "      <td>18.7142857142857</td>\n",
       "      <td>14.5714285714286</td>\n",
       "      <td>NA</td>\n",
       "      <td>NA</td>\n",
       "      <td>NA</td>\n",
       "      <td>NA</td>\n",
       "    </tr>\n",
       "    <tr>\n",
       "      <th>3</th>\n",
       "      <td>4</td>\n",
       "      <td>1</td>\n",
       "      <td>1</td>\n",
       "      <td>2021</td>\n",
       "      <td>Philadelphia</td>\n",
       "      <td>Philadelphia</td>\n",
       "      <td>7.0555333998006</td>\n",
       "      <td>44.285714</td>\n",
       "      <td>32.857143</td>\n",
       "      <td>8.307143</td>\n",
       "      <td>0.147143</td>\n",
       "      <td>230.3</td>\n",
       "      <td>25.8571428571429</td>\n",
       "      <td>17</td>\n",
       "      <td>9.14285714285714</td>\n",
       "      <td>NA</td>\n",
       "      <td>1.85714285714286</td>\n",
       "      <td>4704.75</td>\n",
       "      <td>NA</td>\n",
       "    </tr>\n",
       "    <tr>\n",
       "      <th>4</th>\n",
       "      <td>5</td>\n",
       "      <td>2</td>\n",
       "      <td>1</td>\n",
       "      <td>2018</td>\n",
       "      <td>Philadelphia</td>\n",
       "      <td>Philadelphia</td>\n",
       "      <td>12.5432291666667</td>\n",
       "      <td>49.000000</td>\n",
       "      <td>27.142857</td>\n",
       "      <td>7.604286</td>\n",
       "      <td>0.211429</td>\n",
       "      <td>NA</td>\n",
       "      <td>46.2857142857143</td>\n",
       "      <td>21.4285714285714</td>\n",
       "      <td>15.8571428571429</td>\n",
       "      <td>NA</td>\n",
       "      <td>NA</td>\n",
       "      <td>NA</td>\n",
       "      <td>NA</td>\n",
       "    </tr>\n",
       "  </tbody>\n",
       "</table>\n",
       "</div>"
      ],
      "text/plain": [
       "   ID  week  month  year        County          City AQI_Weekly_Measurement  \\\n",
       "0   1     1      1  2018  Philadelphia  Philadelphia       9.60100502512563   \n",
       "1   2     1      1  2019  Philadelphia  Philadelphia       6.76766826923077   \n",
       "2   3     1      1  2020  Philadelphia  Philadelphia       9.12906976744186   \n",
       "3   4     1      1  2021  Philadelphia  Philadelphia        7.0555333998006   \n",
       "4   5     2      1  2018  Philadelphia  Philadelphia       12.5432291666667   \n",
       "\n",
       "   Weather_TMAX  Weather_TMIN  Weather_AWND  Weather_PRCP traffic_bike_counts  \\\n",
       "0     23.000000      9.142857     12.175714      0.020000                  NA   \n",
       "1     48.714286     35.285714      8.212857      0.082857                  NA   \n",
       "2     49.000000     34.571429      7.350000      0.058571                  NA   \n",
       "3     44.285714     32.857143      8.307143      0.147143               230.3   \n",
       "4     49.000000     27.142857      7.604286      0.211429                  NA   \n",
       "\n",
       "     Pollution_pm25      Pollution_o3     Pollution_no2 Pollution_so2  \\\n",
       "0  38.7142857142857  22.7142857142857  11.7142857142857            NA   \n",
       "1                NA  17.4285714285714  11.1428571428571            NA   \n",
       "2                NA  18.7142857142857  14.5714285714286            NA   \n",
       "3  25.8571428571429                17  9.14285714285714            NA   \n",
       "4  46.2857142857143  21.4285714285714  15.8571428571429            NA   \n",
       "\n",
       "       Pollution_co traffic_ped_counts traffic_vehicle_counts  \n",
       "0  1.85714285714286                 NA                     NA  \n",
       "1  2.14285714285714                 NA                     NA  \n",
       "2                NA                 NA                     NA  \n",
       "3  1.85714285714286            4704.75                     NA  \n",
       "4                NA                 NA                     NA  "
      ]
     },
     "execution_count": 10,
     "metadata": {},
     "output_type": "execute_result"
    }
   ],
   "source": [
    "print(f\"Philly Dataset:\")\n",
    "philly_data.head()"
   ]
  },
  {
   "cell_type": "code",
   "execution_count": 11,
   "id": "8f4f9fc8",
   "metadata": {},
   "outputs": [
    {
     "name": "stdout",
     "output_type": "stream",
     "text": [
      "Total Number of Columns in Philly Dataset: 19\n"
     ]
    }
   ],
   "source": [
    "print(f\"Total Number of Columns in Philly Dataset: {len(philly_data.columns)}\")"
   ]
  },
  {
   "cell_type": "markdown",
   "id": "ee4e19d8",
   "metadata": {},
   "source": [
    "## Preprocessing\n",
    "\n",
    "Steps:\n",
    "1. Set License Class as Categorical and then Encode it for ML models.\n",
    "2. AQI is an Integer, no decimal values.\n",
    "3. Train Set - Data From 2018 to 2020, Test Set - Data From 2021 only.\n",
    "4. Split Train and Test Data into Features and Labels."
   ]
  },
  {
   "cell_type": "markdown",
   "id": "829024ce",
   "metadata": {},
   "source": [
    "### NYC"
   ]
  },
  {
   "cell_type": "code",
   "execution_count": 12,
   "id": "2394a9b2",
   "metadata": {
    "scrolled": true
   },
   "outputs": [
    {
     "name": "stdout",
     "output_type": "stream",
     "text": [
      "Train Data Years: [2018 2019 2020]\n",
      "Test Data Years: [2021]\n",
      "X_train Shape: (936, 32)\n",
      "X_test Shape: (318, 32)\n"
     ]
    }
   ],
   "source": [
    "# Encode the License Class Column NYC\n",
    "nyc_data['License_Class'] = nyc_data['License_Class'].astype('category').cat.codes\n",
    "nyc_data['aqi'] = nyc_data['aqi'].astype(int)\n",
    "\n",
    "# NYC Train - 2018 to 2020\n",
    "nyc_train = nyc_data[nyc_data['year'] != 2021]\n",
    "\n",
    "# NYC Test - 2020\n",
    "nyc_test = nyc_data[nyc_data['year'] == 2021]\n",
    "\n",
    "print(f\"Train Data Years: {nyc_train.year.unique()}\")\n",
    "print(f\"Test Data Years: {nyc_test.year.unique()}\")\n",
    "\n",
    "# Create Train and Test Splits NYC\n",
    "nyc_X_train = nyc_train.drop(['pm25','aqi'], axis = 1)\n",
    "nyc_y_train = nyc_train[['aqi']]\n",
    "nyc_X_test = nyc_test.drop(['pm25','aqi'], axis = 1)\n",
    "nyc_y_test = nyc_test[['aqi']]\n",
    "\n",
    "print(f\"X_train Shape: {nyc_X_train.shape}\")\n",
    "print(f\"X_test Shape: {nyc_X_test.shape}\")"
   ]
  },
  {
   "cell_type": "markdown",
   "id": "f4fa8bcc",
   "metadata": {},
   "source": [
    "### Chicago"
   ]
  },
  {
   "cell_type": "code",
   "execution_count": 13,
   "id": "910aab88",
   "metadata": {},
   "outputs": [],
   "source": [
    "# Drop City Indentifiers as they prevent the model to generalize over the dataset\n",
    "chicago_data = chicago_data.drop(['County', 'City'], axis = 1)"
   ]
  },
  {
   "cell_type": "code",
   "execution_count": 14,
   "id": "d7d386a6",
   "metadata": {
    "scrolled": true
   },
   "outputs": [
    {
     "data": {
      "text/plain": [
       "ID                            0\n",
       "week                          0\n",
       "month                         0\n",
       "year                          0\n",
       "AQI_Weekly_Measurement       18\n",
       "Weather_TMAX                  0\n",
       "Weather_TMIN                  0\n",
       "Weather_AWND                  0\n",
       "Weather_PRCP                 12\n",
       "avg_weekday_rides           203\n",
       "avg_saturday_rides          203\n",
       "avg_sunday_holiday_rides    203\n",
       "Pollution_pm25               22\n",
       "Pollution_o3                 63\n",
       "traffic_taxi_trip_miles     208\n",
       "traffic_taxi_trip_totals    208\n",
       "traffic_rideshare_miles     211\n",
       "traffic_speed               207\n",
       "traffic_bus_count           207\n",
       "dtype: int64"
      ]
     },
     "execution_count": 14,
     "metadata": {},
     "output_type": "execute_result"
    }
   ],
   "source": [
    "chicago_data = chicago_data.replace('NA', 0)\n",
    "chicago_data = chicago_data.astype(float)\n",
    "chicago_data = chicago_data.replace(0, np.nan)\n",
    "# NA values\n",
    "chicago_data.isna().sum()"
   ]
  },
  {
   "cell_type": "code",
   "execution_count": 15,
   "id": "ab3d4f48",
   "metadata": {},
   "outputs": [
    {
     "name": "stdout",
     "output_type": "stream",
     "text": [
      "Total Number Of Records: 212\n"
     ]
    }
   ],
   "source": [
    "print(f\"Total Number Of Records: {len(chicago_data)}\")"
   ]
  },
  {
   "cell_type": "markdown",
   "id": "8060915f",
   "metadata": {},
   "source": [
    "Looks like some columns have more than 75% of missing values - this renders them usless. We can remove them"
   ]
  },
  {
   "cell_type": "code",
   "execution_count": 16,
   "id": "41fb7e75",
   "metadata": {
    "scrolled": true
   },
   "outputs": [
    {
     "data": {
      "text/html": [
       "<div>\n",
       "<style scoped>\n",
       "    .dataframe tbody tr th:only-of-type {\n",
       "        vertical-align: middle;\n",
       "    }\n",
       "\n",
       "    .dataframe tbody tr th {\n",
       "        vertical-align: top;\n",
       "    }\n",
       "\n",
       "    .dataframe thead th {\n",
       "        text-align: right;\n",
       "    }\n",
       "</style>\n",
       "<table border=\"1\" class=\"dataframe\">\n",
       "  <thead>\n",
       "    <tr style=\"text-align: right;\">\n",
       "      <th></th>\n",
       "      <th>ID</th>\n",
       "      <th>week</th>\n",
       "      <th>month</th>\n",
       "      <th>year</th>\n",
       "      <th>AQI_Weekly_Measurement</th>\n",
       "      <th>Weather_TMAX</th>\n",
       "      <th>Weather_TMIN</th>\n",
       "      <th>Weather_AWND</th>\n",
       "      <th>Weather_PRCP</th>\n",
       "      <th>Pollution_pm25</th>\n",
       "      <th>Pollution_o3</th>\n",
       "    </tr>\n",
       "  </thead>\n",
       "  <tbody>\n",
       "    <tr>\n",
       "      <th>0</th>\n",
       "      <td>1.0</td>\n",
       "      <td>1.0</td>\n",
       "      <td>1.0</td>\n",
       "      <td>2018.0</td>\n",
       "      <td>9.626513</td>\n",
       "      <td>14.666667</td>\n",
       "      <td>-0.523810</td>\n",
       "      <td>10.822381</td>\n",
       "      <td>0.002857</td>\n",
       "      <td>37.714286</td>\n",
       "      <td>18.714286</td>\n",
       "    </tr>\n",
       "    <tr>\n",
       "      <th>1</th>\n",
       "      <td>2.0</td>\n",
       "      <td>1.0</td>\n",
       "      <td>1.0</td>\n",
       "      <td>2019.0</td>\n",
       "      <td>9.314448</td>\n",
       "      <td>43.571429</td>\n",
       "      <td>30.428571</td>\n",
       "      <td>9.788571</td>\n",
       "      <td>0.060476</td>\n",
       "      <td>NaN</td>\n",
       "      <td>17.000000</td>\n",
       "    </tr>\n",
       "    <tr>\n",
       "      <th>2</th>\n",
       "      <td>3.0</td>\n",
       "      <td>1.0</td>\n",
       "      <td>1.0</td>\n",
       "      <td>2020.0</td>\n",
       "      <td>7.499619</td>\n",
       "      <td>42.095238</td>\n",
       "      <td>28.238095</td>\n",
       "      <td>10.151905</td>\n",
       "      <td>0.001905</td>\n",
       "      <td>22.833333</td>\n",
       "      <td>NaN</td>\n",
       "    </tr>\n",
       "    <tr>\n",
       "      <th>3</th>\n",
       "      <td>4.0</td>\n",
       "      <td>1.0</td>\n",
       "      <td>1.0</td>\n",
       "      <td>2021.0</td>\n",
       "      <td>16.980791</td>\n",
       "      <td>35.666667</td>\n",
       "      <td>27.428571</td>\n",
       "      <td>7.264762</td>\n",
       "      <td>0.052857</td>\n",
       "      <td>49.000000</td>\n",
       "      <td>NaN</td>\n",
       "    </tr>\n",
       "    <tr>\n",
       "      <th>4</th>\n",
       "      <td>5.0</td>\n",
       "      <td>2.0</td>\n",
       "      <td>1.0</td>\n",
       "      <td>2018.0</td>\n",
       "      <td>11.899454</td>\n",
       "      <td>35.809524</td>\n",
       "      <td>19.380952</td>\n",
       "      <td>12.282857</td>\n",
       "      <td>0.038571</td>\n",
       "      <td>37.428571</td>\n",
       "      <td>18.857143</td>\n",
       "    </tr>\n",
       "  </tbody>\n",
       "</table>\n",
       "</div>"
      ],
      "text/plain": [
       "    ID  week  month    year  AQI_Weekly_Measurement  Weather_TMAX  \\\n",
       "0  1.0   1.0    1.0  2018.0                9.626513     14.666667   \n",
       "1  2.0   1.0    1.0  2019.0                9.314448     43.571429   \n",
       "2  3.0   1.0    1.0  2020.0                7.499619     42.095238   \n",
       "3  4.0   1.0    1.0  2021.0               16.980791     35.666667   \n",
       "4  5.0   2.0    1.0  2018.0               11.899454     35.809524   \n",
       "\n",
       "   Weather_TMIN  Weather_AWND  Weather_PRCP  Pollution_pm25  Pollution_o3  \n",
       "0     -0.523810     10.822381      0.002857       37.714286     18.714286  \n",
       "1     30.428571      9.788571      0.060476             NaN     17.000000  \n",
       "2     28.238095     10.151905      0.001905       22.833333           NaN  \n",
       "3     27.428571      7.264762      0.052857       49.000000           NaN  \n",
       "4     19.380952     12.282857      0.038571       37.428571     18.857143  "
      ]
     },
     "execution_count": 16,
     "metadata": {},
     "output_type": "execute_result"
    }
   ],
   "source": [
    "chicago_data = chicago_data.drop(['avg_weekday_rides', 'avg_saturday_rides', 'avg_sunday_holiday_rides',\n",
    "                                 'traffic_taxi_trip_miles', 'traffic_taxi_trip_totals', 'traffic_rideshare_miles',\n",
    "                                 'traffic_speed', 'traffic_bus_count'], axis = 1)\n",
    "chicago_data.head()"
   ]
  },
  {
   "cell_type": "code",
   "execution_count": 24,
   "id": "e8073bfc",
   "metadata": {
    "scrolled": true
   },
   "outputs": [
    {
     "name": "stdout",
     "output_type": "stream",
     "text": [
      "Missing Values:\n",
      " ID                        0\n",
      "week                      0\n",
      "month                     0\n",
      "year                      0\n",
      "AQI_Weekly_Measurement    0\n",
      "Weather_TMAX              0\n",
      "Weather_TMIN              0\n",
      "Weather_AWND              0\n",
      "Weather_PRCP              0\n",
      "Pollution_pm25            0\n",
      "Pollution_o3              0\n",
      "dtype: int64\n"
     ]
    },
    {
     "data": {
      "text/html": [
       "<div>\n",
       "<style scoped>\n",
       "    .dataframe tbody tr th:only-of-type {\n",
       "        vertical-align: middle;\n",
       "    }\n",
       "\n",
       "    .dataframe tbody tr th {\n",
       "        vertical-align: top;\n",
       "    }\n",
       "\n",
       "    .dataframe thead th {\n",
       "        text-align: right;\n",
       "    }\n",
       "</style>\n",
       "<table border=\"1\" class=\"dataframe\">\n",
       "  <thead>\n",
       "    <tr style=\"text-align: right;\">\n",
       "      <th></th>\n",
       "      <th>ID</th>\n",
       "      <th>week</th>\n",
       "      <th>month</th>\n",
       "      <th>year</th>\n",
       "      <th>AQI_Weekly_Measurement</th>\n",
       "      <th>Weather_TMAX</th>\n",
       "      <th>Weather_TMIN</th>\n",
       "      <th>Weather_AWND</th>\n",
       "      <th>Weather_PRCP</th>\n",
       "      <th>Pollution_pm25</th>\n",
       "      <th>Pollution_o3</th>\n",
       "    </tr>\n",
       "  </thead>\n",
       "  <tbody>\n",
       "    <tr>\n",
       "      <th>0</th>\n",
       "      <td>1.0</td>\n",
       "      <td>1.0</td>\n",
       "      <td>1.0</td>\n",
       "      <td>2018</td>\n",
       "      <td>9</td>\n",
       "      <td>14.666667</td>\n",
       "      <td>-0.523810</td>\n",
       "      <td>10.822381</td>\n",
       "      <td>0.002857</td>\n",
       "      <td>37.714286</td>\n",
       "      <td>18.714286</td>\n",
       "    </tr>\n",
       "    <tr>\n",
       "      <th>1</th>\n",
       "      <td>2.0</td>\n",
       "      <td>1.0</td>\n",
       "      <td>1.0</td>\n",
       "      <td>2019</td>\n",
       "      <td>9</td>\n",
       "      <td>43.571429</td>\n",
       "      <td>30.428571</td>\n",
       "      <td>9.788571</td>\n",
       "      <td>0.060476</td>\n",
       "      <td>37.714286</td>\n",
       "      <td>17.000000</td>\n",
       "    </tr>\n",
       "    <tr>\n",
       "      <th>2</th>\n",
       "      <td>3.0</td>\n",
       "      <td>1.0</td>\n",
       "      <td>1.0</td>\n",
       "      <td>2020</td>\n",
       "      <td>7</td>\n",
       "      <td>42.095238</td>\n",
       "      <td>28.238095</td>\n",
       "      <td>10.151905</td>\n",
       "      <td>0.001905</td>\n",
       "      <td>22.833333</td>\n",
       "      <td>17.000000</td>\n",
       "    </tr>\n",
       "    <tr>\n",
       "      <th>3</th>\n",
       "      <td>4.0</td>\n",
       "      <td>1.0</td>\n",
       "      <td>1.0</td>\n",
       "      <td>2021</td>\n",
       "      <td>16</td>\n",
       "      <td>35.666667</td>\n",
       "      <td>27.428571</td>\n",
       "      <td>7.264762</td>\n",
       "      <td>0.052857</td>\n",
       "      <td>49.000000</td>\n",
       "      <td>17.000000</td>\n",
       "    </tr>\n",
       "    <tr>\n",
       "      <th>4</th>\n",
       "      <td>5.0</td>\n",
       "      <td>2.0</td>\n",
       "      <td>1.0</td>\n",
       "      <td>2018</td>\n",
       "      <td>11</td>\n",
       "      <td>35.809524</td>\n",
       "      <td>19.380952</td>\n",
       "      <td>12.282857</td>\n",
       "      <td>0.038571</td>\n",
       "      <td>37.428571</td>\n",
       "      <td>18.857143</td>\n",
       "    </tr>\n",
       "  </tbody>\n",
       "</table>\n",
       "</div>"
      ],
      "text/plain": [
       "    ID  week  month  year  AQI_Weekly_Measurement  Weather_TMAX  Weather_TMIN  \\\n",
       "0  1.0   1.0    1.0  2018                       9     14.666667     -0.523810   \n",
       "1  2.0   1.0    1.0  2019                       9     43.571429     30.428571   \n",
       "2  3.0   1.0    1.0  2020                       7     42.095238     28.238095   \n",
       "3  4.0   1.0    1.0  2021                      16     35.666667     27.428571   \n",
       "4  5.0   2.0    1.0  2018                      11     35.809524     19.380952   \n",
       "\n",
       "   Weather_AWND  Weather_PRCP  Pollution_pm25  Pollution_o3  \n",
       "0     10.822381      0.002857       37.714286     18.714286  \n",
       "1      9.788571      0.060476       37.714286     17.000000  \n",
       "2     10.151905      0.001905       22.833333     17.000000  \n",
       "3      7.264762      0.052857       49.000000     17.000000  \n",
       "4     12.282857      0.038571       37.428571     18.857143  "
      ]
     },
     "execution_count": 24,
     "metadata": {},
     "output_type": "execute_result"
    }
   ],
   "source": [
    "# The rest of the missing values can be forward filled\n",
    "\n",
    "chicago_data = chicago_data.ffill(axis = 0) # column vice\n",
    "print(f\"Missing Values:\\n {chicago_data.isna().sum()}\")\n",
    "chicago_data['year'] = chicago_data['year'].astype(int)\n",
    "chicago_data['AQI_Weekly_Measurement'] = chicago_data['AQI_Weekly_Measurement'].astype(int)\n",
    "chicago_data.head()"
   ]
  },
  {
   "cell_type": "code",
   "execution_count": 25,
   "id": "07c653b8",
   "metadata": {},
   "outputs": [
    {
     "name": "stdout",
     "output_type": "stream",
     "text": [
      "Train Data Years: [2018 2019 2020]\n",
      "Test Data Years: [2021]\n",
      "X_train Shape: (159, 9)\n",
      "X_test Shape: (53, 9)\n"
     ]
    }
   ],
   "source": [
    "# Chicago Train - 2018 to 2020\n",
    "chicago_train = chicago_data[chicago_data['year'] != 2021]\n",
    "\n",
    "# Chicago Test - 2020\n",
    "chicago_test = chicago_data[chicago_data['year'] == 2021]\n",
    "\n",
    "print(f\"Train Data Years: {chicago_train.year.unique()}\")\n",
    "print(f\"Test Data Years: {chicago_test.year.unique()}\")\n",
    "\n",
    "# Create Train and Test Splits NYC\n",
    "chicago_X_train = chicago_train.drop(['Pollution_pm25','AQI_Weekly_Measurement'], axis = 1)\n",
    "chicago_y_train = chicago_train[['AQI_Weekly_Measurement']]\n",
    "chicago_X_test = chicago_test.drop(['Pollution_pm25','AQI_Weekly_Measurement'], axis = 1)\n",
    "chicago_y_test = chicago_test[['AQI_Weekly_Measurement']]\n",
    "\n",
    "print(f\"X_train Shape: {chicago_X_train.shape}\")\n",
    "print(f\"X_test Shape: {chicago_X_test.shape}\")"
   ]
  },
  {
   "cell_type": "markdown",
   "id": "3a46cc1b",
   "metadata": {},
   "source": [
    "### Philly"
   ]
  },
  {
   "cell_type": "code",
   "execution_count": 29,
   "id": "293e7685",
   "metadata": {
    "scrolled": true
   },
   "outputs": [
    {
     "data": {
      "text/plain": [
       "ID                          0\n",
       "week                        0\n",
       "month                       0\n",
       "year                        0\n",
       "AQI_Weekly_Measurement     20\n",
       "Weather_TMAX                0\n",
       "Weather_TMIN                0\n",
       "Weather_AWND                0\n",
       "Weather_PRCP               12\n",
       "traffic_bike_counts       167\n",
       "Pollution_pm25             39\n",
       "Pollution_o3               31\n",
       "Pollution_no2              32\n",
       "Pollution_so2             199\n",
       "Pollution_co               59\n",
       "traffic_ped_counts        173\n",
       "traffic_vehicle_counts    183\n",
       "dtype: int64"
      ]
     },
     "execution_count": 29,
     "metadata": {},
     "output_type": "execute_result"
    }
   ],
   "source": [
    "# Drop City Indentifiers as they prevent the model to generalize over the dataset\n",
    "philly_data = philly_data.drop(['County', 'City'], axis = 1)\n",
    "philly_data = philly_data.replace('NA', 0)\n",
    "philly_data = philly_data.astype(float)\n",
    "philly_data = philly_data.replace(0, np.nan)\n",
    "# NA values\n",
    "philly_data.isna().sum()"
   ]
  },
  {
   "cell_type": "code",
   "execution_count": 30,
   "id": "2f6d82fe",
   "metadata": {},
   "outputs": [
    {
     "name": "stdout",
     "output_type": "stream",
     "text": [
      "Total Number of Records: 212\n"
     ]
    }
   ],
   "source": [
    "print(f\"Total Number of Records: {len(philly_data)}\")"
   ]
  },
  {
   "cell_type": "code",
   "execution_count": 31,
   "id": "39374cb2",
   "metadata": {
    "scrolled": true
   },
   "outputs": [
    {
     "data": {
      "text/html": [
       "<div>\n",
       "<style scoped>\n",
       "    .dataframe tbody tr th:only-of-type {\n",
       "        vertical-align: middle;\n",
       "    }\n",
       "\n",
       "    .dataframe tbody tr th {\n",
       "        vertical-align: top;\n",
       "    }\n",
       "\n",
       "    .dataframe thead th {\n",
       "        text-align: right;\n",
       "    }\n",
       "</style>\n",
       "<table border=\"1\" class=\"dataframe\">\n",
       "  <thead>\n",
       "    <tr style=\"text-align: right;\">\n",
       "      <th></th>\n",
       "      <th>ID</th>\n",
       "      <th>week</th>\n",
       "      <th>month</th>\n",
       "      <th>year</th>\n",
       "      <th>AQI_Weekly_Measurement</th>\n",
       "      <th>Weather_TMAX</th>\n",
       "      <th>Weather_TMIN</th>\n",
       "      <th>Weather_AWND</th>\n",
       "      <th>Weather_PRCP</th>\n",
       "      <th>Pollution_o3</th>\n",
       "      <th>Pollution_no2</th>\n",
       "      <th>Pollution_co</th>\n",
       "    </tr>\n",
       "  </thead>\n",
       "  <tbody>\n",
       "    <tr>\n",
       "      <th>0</th>\n",
       "      <td>1.0</td>\n",
       "      <td>1.0</td>\n",
       "      <td>1.0</td>\n",
       "      <td>2018.0</td>\n",
       "      <td>9.601005</td>\n",
       "      <td>23.000000</td>\n",
       "      <td>9.142857</td>\n",
       "      <td>12.175714</td>\n",
       "      <td>0.020000</td>\n",
       "      <td>22.714286</td>\n",
       "      <td>11.714286</td>\n",
       "      <td>1.857143</td>\n",
       "    </tr>\n",
       "    <tr>\n",
       "      <th>1</th>\n",
       "      <td>2.0</td>\n",
       "      <td>1.0</td>\n",
       "      <td>1.0</td>\n",
       "      <td>2019.0</td>\n",
       "      <td>6.767668</td>\n",
       "      <td>48.714286</td>\n",
       "      <td>35.285714</td>\n",
       "      <td>8.212857</td>\n",
       "      <td>0.082857</td>\n",
       "      <td>17.428571</td>\n",
       "      <td>11.142857</td>\n",
       "      <td>2.142857</td>\n",
       "    </tr>\n",
       "    <tr>\n",
       "      <th>2</th>\n",
       "      <td>3.0</td>\n",
       "      <td>1.0</td>\n",
       "      <td>1.0</td>\n",
       "      <td>2020.0</td>\n",
       "      <td>9.129070</td>\n",
       "      <td>49.000000</td>\n",
       "      <td>34.571429</td>\n",
       "      <td>7.350000</td>\n",
       "      <td>0.058571</td>\n",
       "      <td>18.714286</td>\n",
       "      <td>14.571429</td>\n",
       "      <td>NaN</td>\n",
       "    </tr>\n",
       "    <tr>\n",
       "      <th>3</th>\n",
       "      <td>4.0</td>\n",
       "      <td>1.0</td>\n",
       "      <td>1.0</td>\n",
       "      <td>2021.0</td>\n",
       "      <td>7.055533</td>\n",
       "      <td>44.285714</td>\n",
       "      <td>32.857143</td>\n",
       "      <td>8.307143</td>\n",
       "      <td>0.147143</td>\n",
       "      <td>17.000000</td>\n",
       "      <td>9.142857</td>\n",
       "      <td>1.857143</td>\n",
       "    </tr>\n",
       "    <tr>\n",
       "      <th>4</th>\n",
       "      <td>5.0</td>\n",
       "      <td>2.0</td>\n",
       "      <td>1.0</td>\n",
       "      <td>2018.0</td>\n",
       "      <td>12.543229</td>\n",
       "      <td>49.000000</td>\n",
       "      <td>27.142857</td>\n",
       "      <td>7.604286</td>\n",
       "      <td>0.211429</td>\n",
       "      <td>21.428571</td>\n",
       "      <td>15.857143</td>\n",
       "      <td>NaN</td>\n",
       "    </tr>\n",
       "  </tbody>\n",
       "</table>\n",
       "</div>"
      ],
      "text/plain": [
       "    ID  week  month    year  AQI_Weekly_Measurement  Weather_TMAX  \\\n",
       "0  1.0   1.0    1.0  2018.0                9.601005     23.000000   \n",
       "1  2.0   1.0    1.0  2019.0                6.767668     48.714286   \n",
       "2  3.0   1.0    1.0  2020.0                9.129070     49.000000   \n",
       "3  4.0   1.0    1.0  2021.0                7.055533     44.285714   \n",
       "4  5.0   2.0    1.0  2018.0               12.543229     49.000000   \n",
       "\n",
       "   Weather_TMIN  Weather_AWND  Weather_PRCP  Pollution_o3  Pollution_no2  \\\n",
       "0      9.142857     12.175714      0.020000     22.714286      11.714286   \n",
       "1     35.285714      8.212857      0.082857     17.428571      11.142857   \n",
       "2     34.571429      7.350000      0.058571     18.714286      14.571429   \n",
       "3     32.857143      8.307143      0.147143     17.000000       9.142857   \n",
       "4     27.142857      7.604286      0.211429     21.428571      15.857143   \n",
       "\n",
       "   Pollution_co  \n",
       "0      1.857143  \n",
       "1      2.142857  \n",
       "2           NaN  \n",
       "3      1.857143  \n",
       "4           NaN  "
      ]
     },
     "execution_count": 31,
     "metadata": {},
     "output_type": "execute_result"
    }
   ],
   "source": [
    "# Drop columns with almost all records missing\n",
    "philly_data = philly_data.drop(['traffic_bike_counts', 'Pollution_so2', 'Pollution_pm25', \n",
    "                                'traffic_ped_counts', 'traffic_vehicle_counts'], axis = 1)\n",
    "philly_data.head()"
   ]
  },
  {
   "cell_type": "code",
   "execution_count": 32,
   "id": "6c0529fa",
   "metadata": {
    "scrolled": true
   },
   "outputs": [
    {
     "name": "stdout",
     "output_type": "stream",
     "text": [
      "Missing Values:\n",
      " ID                        0\n",
      "week                      0\n",
      "month                     0\n",
      "year                      0\n",
      "AQI_Weekly_Measurement    0\n",
      "Weather_TMAX              0\n",
      "Weather_TMIN              0\n",
      "Weather_AWND              0\n",
      "Weather_PRCP              0\n",
      "Pollution_o3              0\n",
      "Pollution_no2             0\n",
      "Pollution_co              0\n",
      "dtype: int64\n"
     ]
    },
    {
     "data": {
      "text/html": [
       "<div>\n",
       "<style scoped>\n",
       "    .dataframe tbody tr th:only-of-type {\n",
       "        vertical-align: middle;\n",
       "    }\n",
       "\n",
       "    .dataframe tbody tr th {\n",
       "        vertical-align: top;\n",
       "    }\n",
       "\n",
       "    .dataframe thead th {\n",
       "        text-align: right;\n",
       "    }\n",
       "</style>\n",
       "<table border=\"1\" class=\"dataframe\">\n",
       "  <thead>\n",
       "    <tr style=\"text-align: right;\">\n",
       "      <th></th>\n",
       "      <th>ID</th>\n",
       "      <th>week</th>\n",
       "      <th>month</th>\n",
       "      <th>year</th>\n",
       "      <th>AQI_Weekly_Measurement</th>\n",
       "      <th>Weather_TMAX</th>\n",
       "      <th>Weather_TMIN</th>\n",
       "      <th>Weather_AWND</th>\n",
       "      <th>Weather_PRCP</th>\n",
       "      <th>Pollution_o3</th>\n",
       "      <th>Pollution_no2</th>\n",
       "      <th>Pollution_co</th>\n",
       "    </tr>\n",
       "  </thead>\n",
       "  <tbody>\n",
       "    <tr>\n",
       "      <th>0</th>\n",
       "      <td>1.0</td>\n",
       "      <td>1.0</td>\n",
       "      <td>1.0</td>\n",
       "      <td>2018</td>\n",
       "      <td>9</td>\n",
       "      <td>23.000000</td>\n",
       "      <td>9.142857</td>\n",
       "      <td>12.175714</td>\n",
       "      <td>0.020000</td>\n",
       "      <td>22.714286</td>\n",
       "      <td>11.714286</td>\n",
       "      <td>1.857143</td>\n",
       "    </tr>\n",
       "    <tr>\n",
       "      <th>1</th>\n",
       "      <td>2.0</td>\n",
       "      <td>1.0</td>\n",
       "      <td>1.0</td>\n",
       "      <td>2019</td>\n",
       "      <td>6</td>\n",
       "      <td>48.714286</td>\n",
       "      <td>35.285714</td>\n",
       "      <td>8.212857</td>\n",
       "      <td>0.082857</td>\n",
       "      <td>17.428571</td>\n",
       "      <td>11.142857</td>\n",
       "      <td>2.142857</td>\n",
       "    </tr>\n",
       "    <tr>\n",
       "      <th>2</th>\n",
       "      <td>3.0</td>\n",
       "      <td>1.0</td>\n",
       "      <td>1.0</td>\n",
       "      <td>2020</td>\n",
       "      <td>9</td>\n",
       "      <td>49.000000</td>\n",
       "      <td>34.571429</td>\n",
       "      <td>7.350000</td>\n",
       "      <td>0.058571</td>\n",
       "      <td>18.714286</td>\n",
       "      <td>14.571429</td>\n",
       "      <td>2.142857</td>\n",
       "    </tr>\n",
       "    <tr>\n",
       "      <th>3</th>\n",
       "      <td>4.0</td>\n",
       "      <td>1.0</td>\n",
       "      <td>1.0</td>\n",
       "      <td>2021</td>\n",
       "      <td>7</td>\n",
       "      <td>44.285714</td>\n",
       "      <td>32.857143</td>\n",
       "      <td>8.307143</td>\n",
       "      <td>0.147143</td>\n",
       "      <td>17.000000</td>\n",
       "      <td>9.142857</td>\n",
       "      <td>1.857143</td>\n",
       "    </tr>\n",
       "    <tr>\n",
       "      <th>4</th>\n",
       "      <td>5.0</td>\n",
       "      <td>2.0</td>\n",
       "      <td>1.0</td>\n",
       "      <td>2018</td>\n",
       "      <td>12</td>\n",
       "      <td>49.000000</td>\n",
       "      <td>27.142857</td>\n",
       "      <td>7.604286</td>\n",
       "      <td>0.211429</td>\n",
       "      <td>21.428571</td>\n",
       "      <td>15.857143</td>\n",
       "      <td>1.857143</td>\n",
       "    </tr>\n",
       "  </tbody>\n",
       "</table>\n",
       "</div>"
      ],
      "text/plain": [
       "    ID  week  month  year  AQI_Weekly_Measurement  Weather_TMAX  Weather_TMIN  \\\n",
       "0  1.0   1.0    1.0  2018                       9     23.000000      9.142857   \n",
       "1  2.0   1.0    1.0  2019                       6     48.714286     35.285714   \n",
       "2  3.0   1.0    1.0  2020                       9     49.000000     34.571429   \n",
       "3  4.0   1.0    1.0  2021                       7     44.285714     32.857143   \n",
       "4  5.0   2.0    1.0  2018                      12     49.000000     27.142857   \n",
       "\n",
       "   Weather_AWND  Weather_PRCP  Pollution_o3  Pollution_no2  Pollution_co  \n",
       "0     12.175714      0.020000     22.714286      11.714286      1.857143  \n",
       "1      8.212857      0.082857     17.428571      11.142857      2.142857  \n",
       "2      7.350000      0.058571     18.714286      14.571429      2.142857  \n",
       "3      8.307143      0.147143     17.000000       9.142857      1.857143  \n",
       "4      7.604286      0.211429     21.428571      15.857143      1.857143  "
      ]
     },
     "execution_count": 32,
     "metadata": {},
     "output_type": "execute_result"
    }
   ],
   "source": [
    "# The rest of the missing values can be forward filled\n",
    "\n",
    "philly_data = philly_data.ffill(axis = 0) # column vice\n",
    "print(f\"Missing Values:\\n {philly_data.isna().sum()}\")\n",
    "philly_data['year'] = philly_data['year'].astype(int)\n",
    "philly_data['AQI_Weekly_Measurement'] = philly_data['AQI_Weekly_Measurement'].astype(int)\n",
    "philly_data.head()"
   ]
  },
  {
   "cell_type": "code",
   "execution_count": 34,
   "id": "d5c2be28",
   "metadata": {},
   "outputs": [
    {
     "name": "stdout",
     "output_type": "stream",
     "text": [
      "Train Data Years: [2018 2019 2020]\n",
      "Test Data Years: [2021]\n",
      "X_train Shape: (159, 11)\n",
      "X_test Shape: (53, 11)\n"
     ]
    }
   ],
   "source": [
    "# Philly Train - 2018 to 2020\n",
    "philly_train = philly_data[philly_data['year'] != 2021]\n",
    "\n",
    "# Philly Test - 2020\n",
    "philly_test = philly_data[philly_data['year'] == 2021]\n",
    "\n",
    "print(f\"Train Data Years: {philly_train.year.unique()}\")\n",
    "print(f\"Test Data Years: {philly_test.year.unique()}\")\n",
    "\n",
    "# Create Train and Test Splits NYC\n",
    "philly_X_train = philly_train.drop(['AQI_Weekly_Measurement'], axis = 1)\n",
    "philly_y_train = philly_train[['AQI_Weekly_Measurement']]\n",
    "philly_X_test = philly_test.drop(['AQI_Weekly_Measurement'], axis = 1)\n",
    "philly_y_test = philly_test[['AQI_Weekly_Measurement']]\n",
    "\n",
    "print(f\"X_train Shape: {philly_X_train.shape}\")\n",
    "print(f\"X_test Shape: {philly_X_test.shape}\")"
   ]
  },
  {
   "cell_type": "markdown",
   "id": "2d9e2480",
   "metadata": {},
   "source": [
    "### Standard Scaler\n",
    "\n",
    "Scale the data for the model"
   ]
  },
  {
   "cell_type": "code",
   "execution_count": 35,
   "id": "760ce619",
   "metadata": {},
   "outputs": [],
   "source": [
    "from sklearn.preprocessing import StandardScaler\n",
    "\n",
    "def scale_data(X_train, y_train, X_test, y_test):\n",
    "    \n",
    "    \"\"\"\n",
    "    Input: training and testing splits.\n",
    "    Output: Scaled training and testing splits.\n",
    "    \"\"\"\n",
    "    X_train = StandardScaler().fit_transform(X_train)\n",
    "    y_train = StandardScaler().fit_transform(y_train)\n",
    "    X_test = StandardScaler().fit_transform(X_test)\n",
    "    y_test = StandardScaler().fit_transform(y_test)\n",
    "    \n",
    "    return X_train, y_train, X_test, y_test"
   ]
  },
  {
   "cell_type": "markdown",
   "id": "f53ff4ae",
   "metadata": {},
   "source": [
    "## Functions"
   ]
  },
  {
   "cell_type": "markdown",
   "id": "d88d43e8",
   "metadata": {},
   "source": [
    "### Loss Curves Plot"
   ]
  },
  {
   "cell_type": "code",
   "execution_count": 36,
   "id": "764469b0",
   "metadata": {},
   "outputs": [],
   "source": [
    "def plot_loss(history):\n",
    "    \"\"\"\n",
    "    Loss Curves of the Models - Neural Nets\n",
    "    \"\"\"\n",
    "    plt.plot(history.history['loss'], label = 'loss')\n",
    "    #plt.plot(history.history['val_loss'], label = 'val_loss')\n",
    "    plt.ylim([0, 10])\n",
    "    plt.xlabel('Epoch')\n",
    "    plt.ylabel('Error')\n",
    "    plt.legend()\n",
    "    plt.grid(True)\n",
    "    plt.show()"
   ]
  },
  {
   "cell_type": "markdown",
   "id": "45831f09",
   "metadata": {},
   "source": [
    "## Source City NYC Models"
   ]
  },
  {
   "cell_type": "code",
   "execution_count": 38,
   "id": "1ea9dcd7",
   "metadata": {},
   "outputs": [],
   "source": [
    "scaled_nyc_X_train, scaled_nyc_y_train, scaled_nyc_X_test, scaled_nyc_y_test = scale_data(nyc_X_train, nyc_y_train, nyc_X_test, nyc_y_test)"
   ]
  },
  {
   "cell_type": "markdown",
   "id": "878b59ee",
   "metadata": {},
   "source": [
    "### Model 1: Random Forest Regressor"
   ]
  },
  {
   "cell_type": "code",
   "execution_count": 39,
   "id": "11cedb3e",
   "metadata": {},
   "outputs": [
    {
     "name": "stdout",
     "output_type": "stream",
     "text": [
      "Random Forest Regressor Score: 3.9091901112385585\n"
     ]
    }
   ],
   "source": [
    "np.random.seed(44)\n",
    "rfr = RandomForestRegressor(n_estimators=200, criterion=\"mse\",\n",
    "                            min_samples_leaf=3, min_samples_split=3, \n",
    "                            max_depth=5, random_state = 44).fit(scaled_nyc_X_train, scaled_nyc_y_train)\n",
    "\n",
    "print(f\"Random Forest Regressor Score: {rfr.score(scaled_nyc_X_test, scaled_nyc_y_test) * 100}\")"
   ]
  },
  {
   "cell_type": "markdown",
   "id": "8bf2abdf",
   "metadata": {},
   "source": [
    "### Model 2: SVM"
   ]
  },
  {
   "cell_type": "code",
   "execution_count": 40,
   "id": "332e029c",
   "metadata": {},
   "outputs": [
    {
     "name": "stdout",
     "output_type": "stream",
     "text": [
      "Support Vector Machines: -18.846528996700318\n"
     ]
    }
   ],
   "source": [
    "np.random.seed(44)\n",
    "regressor = SVR(kernel = 'rbf').fit(scaled_nyc_X_train, scaled_nyc_y_train)\n",
    "print(f\"Support Vector Machines: {regressor.score(scaled_nyc_X_test, scaled_nyc_y_test) * 100}\")"
   ]
  },
  {
   "cell_type": "markdown",
   "id": "aede6495",
   "metadata": {},
   "source": [
    "### Model 3: Sequential"
   ]
  },
  {
   "cell_type": "code",
   "execution_count": 41,
   "id": "2077aaac",
   "metadata": {},
   "outputs": [
    {
     "name": "stderr",
     "output_type": "stream",
     "text": [
      "2022-03-28 17:59:10.598031: I tensorflow/core/platform/cpu_feature_guard.cc:151] This TensorFlow binary is optimized with oneAPI Deep Neural Network Library (oneDNN) to use the following CPU instructions in performance-critical operations:  AVX2 FMA\n",
      "To enable them in other operations, rebuild TensorFlow with the appropriate compiler flags.\n"
     ]
    }
   ],
   "source": [
    "# Build Fully Connect Neural Net using Sequential API\n",
    "tf.random.set_seed(44)\n",
    "model = tf.keras.Sequential()\n",
    "model.add(tf.keras.layers.Dense(500, input_dim=32, activation= \"relu\"))\n",
    "model.add(tf.keras.layers.Dense(500, activation = \"relu\"))\n",
    "model.add(tf.keras.layers.Dense(100, activation= \"relu\"))\n",
    "model.add(tf.keras.layers.Dense(50, activation= \"sigmoid\"))\n",
    "model.add(tf.keras.layers.Dense(1))"
   ]
  },
  {
   "cell_type": "code",
   "execution_count": 42,
   "id": "54d39c6b",
   "metadata": {},
   "outputs": [
    {
     "name": "stdout",
     "output_type": "stream",
     "text": [
      "Model: \"sequential\"\n",
      "_________________________________________________________________\n",
      " Layer (type)                Output Shape              Param #   \n",
      "=================================================================\n",
      " dense (Dense)               (None, 500)               16500     \n",
      "                                                                 \n",
      " dense_1 (Dense)             (None, 500)               250500    \n",
      "                                                                 \n",
      " dense_2 (Dense)             (None, 100)               50100     \n",
      "                                                                 \n",
      " dense_3 (Dense)             (None, 50)                5050      \n",
      "                                                                 \n",
      " dense_4 (Dense)             (None, 1)                 51        \n",
      "                                                                 \n",
      "=================================================================\n",
      "Total params: 322,201\n",
      "Trainable params: 322,201\n",
      "Non-trainable params: 0\n",
      "_________________________________________________________________\n"
     ]
    }
   ],
   "source": [
    "model.summary()"
   ]
  },
  {
   "cell_type": "code",
   "execution_count": 43,
   "id": "1c2c9564",
   "metadata": {},
   "outputs": [],
   "source": [
    "# Compile and Fit Model\n",
    "tf.random.set_seed(44)\n",
    "model.compile(loss= \"mean_squared_error\" , optimizer=\"adam\", metrics=[\"mean_squared_error\"])\n",
    "history_1 = model.fit(scaled_nyc_X_train, scaled_nyc_y_train, epochs=50, verbose = 0)"
   ]
  },
  {
   "cell_type": "code",
   "execution_count": 44,
   "id": "13ea7ac1",
   "metadata": {},
   "outputs": [
    {
     "name": "stdout",
     "output_type": "stream",
     "text": [
      "10/10 [==============================] - 0s 2ms/step - loss: 1.1399 - mean_squared_error: 1.1399\n"
     ]
    },
    {
     "data": {
      "text/plain": [
       "[1.139925241470337, 1.139925241470337]"
      ]
     },
     "execution_count": 44,
     "metadata": {},
     "output_type": "execute_result"
    }
   ],
   "source": [
    "# Evaluate Model on Test Data\n",
    "model.evaluate(scaled_nyc_X_test, scaled_nyc_y_test)"
   ]
  },
  {
   "cell_type": "code",
   "execution_count": 45,
   "id": "ccb90e17",
   "metadata": {},
   "outputs": [],
   "source": [
    "# Make Predictions\n",
    "predictions = model.predict(scaled_nyc_X_test)"
   ]
  },
  {
   "cell_type": "code",
   "execution_count": 47,
   "id": "6a5053af",
   "metadata": {},
   "outputs": [
    {
     "data": {
      "image/png": "[encoded data removed]",
      "text/plain": [
       "<Figure size 720x360 with 1 Axes>"
      ]
     },
     "metadata": {
      "needs_background": "light"
     },
     "output_type": "display_data"
    }
   ],
   "source": [
    "# Plot True Values and Predictions\n",
    "plt.figure(figsize = (10,5))\n",
    "plt.plot(scaled_nyc_y_test, c = 'green', label = \"True Values\")\n",
    "plt.plot(predictions, c = \"red\", label = \"Predictions\")\n",
    "plt.legend()\n",
    "plt.show()"
   ]
  },
  {
   "cell_type": "code",
   "execution_count": 48,
   "id": "e38bdde7",
   "metadata": {
    "scrolled": true
   },
   "outputs": [
    {
     "data": {
      "image/png": "[encoded data removed]",
      "text/plain": [
       "<Figure size 432x288 with 1 Axes>"
      ]
     },
     "metadata": {
      "needs_background": "light"
     },
     "output_type": "display_data"
    }
   ],
   "source": [
    "# Plot Loss Curves\n",
    "plot_loss(history_1)"
   ]
  },
  {
   "cell_type": "code",
   "execution_count": 49,
   "id": "1636367c",
   "metadata": {},
   "outputs": [
    {
     "name": "stderr",
     "output_type": "stream",
     "text": [
      "2022-03-28 17:59:46.985546: W tensorflow/python/util/util.cc:368] Sets are not currently considered sequences, but this may change in the future, so consider avoiding using them.\n"
     ]
    },
    {
     "name": "stdout",
     "output_type": "stream",
     "text": [
      "INFO:tensorflow:Assets written to: Models/Model_1/assets\n"
     ]
    }
   ],
   "source": [
    "# Save Model\n",
    "model.save('Models/Model_1')"
   ]
  },
  {
   "cell_type": "markdown",
   "id": "1ec834a1",
   "metadata": {},
   "source": [
    "## Preprocess \n",
    "Create Synthetic Data Using `Train` Data and Check Chi Squared Distribution and Plot the Distribution"
   ]
  },
  {
   "cell_type": "code",
   "execution_count": 50,
   "id": "21942fa6",
   "metadata": {},
   "outputs": [],
   "source": [
    "# SDV \n",
    "model_copula = GaussianCopula()\n",
    "model_copula.fit(nyc_train)"
   ]
  },
  {
   "cell_type": "code",
   "execution_count": 51,
   "id": "0cba1af9",
   "metadata": {
    "scrolled": true
   },
   "outputs": [
    {
     "data": {
      "text/html": [
       "<div>\n",
       "<style scoped>\n",
       "    .dataframe tbody tr th:only-of-type {\n",
       "        vertical-align: middle;\n",
       "    }\n",
       "\n",
       "    .dataframe tbody tr th {\n",
       "        vertical-align: top;\n",
       "    }\n",
       "\n",
       "    .dataframe thead th {\n",
       "        text-align: right;\n",
       "    }\n",
       "</style>\n",
       "<table border=\"1\" class=\"dataframe\">\n",
       "  <thead>\n",
       "    <tr style=\"text-align: right;\">\n",
       "      <th></th>\n",
       "      <th>year</th>\n",
       "      <th>week</th>\n",
       "      <th>new_york_city_diesel_average_gal</th>\n",
       "      <th>new_york_city_gas_average_gal</th>\n",
       "      <th>tempmax</th>\n",
       "      <th>tempmin</th>\n",
       "      <th>temp</th>\n",
       "      <th>feelslikemax</th>\n",
       "      <th>feelslikemin</th>\n",
       "      <th>feelslike</th>\n",
       "      <th>...</th>\n",
       "      <th>Unique_Drivers</th>\n",
       "      <th>Unique_Vehicles</th>\n",
       "      <th>Vehicles_Per_Day</th>\n",
       "      <th>Avg_Days_Vehicles_on_Road</th>\n",
       "      <th>Avg_Hours_Per_Day_Per_Vehicle</th>\n",
       "      <th>Avg_Days_Drivers_on_Road</th>\n",
       "      <th>Avg_Hours_Per_Day_Per_Driver</th>\n",
       "      <th>Avg_Minutes_Per_Trip</th>\n",
       "      <th>pm25</th>\n",
       "      <th>aqi</th>\n",
       "    </tr>\n",
       "  </thead>\n",
       "  <tbody>\n",
       "    <tr>\n",
       "      <th>0</th>\n",
       "      <td>2020</td>\n",
       "      <td>46</td>\n",
       "      <td>3.45</td>\n",
       "      <td>2.726</td>\n",
       "      <td>69.960045</td>\n",
       "      <td>55.771458</td>\n",
       "      <td>63.915050</td>\n",
       "      <td>70.442061</td>\n",
       "      <td>54.320028</td>\n",
       "      <td>63.284315</td>\n",
       "      <td>...</td>\n",
       "      <td>715</td>\n",
       "      <td>355</td>\n",
       "      <td>177</td>\n",
       "      <td>15.5</td>\n",
       "      <td>2.0</td>\n",
       "      <td>17.6</td>\n",
       "      <td>3.3</td>\n",
       "      <td>187</td>\n",
       "      <td>18.100922</td>\n",
       "      <td>13</td>\n",
       "    </tr>\n",
       "    <tr>\n",
       "      <th>1</th>\n",
       "      <td>2019</td>\n",
       "      <td>48</td>\n",
       "      <td>3.36</td>\n",
       "      <td>2.441</td>\n",
       "      <td>61.785161</td>\n",
       "      <td>43.767806</td>\n",
       "      <td>53.910975</td>\n",
       "      <td>57.322831</td>\n",
       "      <td>39.137632</td>\n",
       "      <td>50.368255</td>\n",
       "      <td>...</td>\n",
       "      <td>1506</td>\n",
       "      <td>499</td>\n",
       "      <td>433</td>\n",
       "      <td>27.5</td>\n",
       "      <td>8.1</td>\n",
       "      <td>22.3</td>\n",
       "      <td>7.9</td>\n",
       "      <td>187</td>\n",
       "      <td>43.480374</td>\n",
       "      <td>36</td>\n",
       "    </tr>\n",
       "    <tr>\n",
       "      <th>2</th>\n",
       "      <td>2020</td>\n",
       "      <td>1</td>\n",
       "      <td>3.02</td>\n",
       "      <td>2.475</td>\n",
       "      <td>35.695044</td>\n",
       "      <td>34.002144</td>\n",
       "      <td>28.506260</td>\n",
       "      <td>31.862311</td>\n",
       "      <td>27.913897</td>\n",
       "      <td>22.886592</td>\n",
       "      <td>...</td>\n",
       "      <td>3415</td>\n",
       "      <td>2772</td>\n",
       "      <td>1756</td>\n",
       "      <td>19.9</td>\n",
       "      <td>6.9</td>\n",
       "      <td>16.1</td>\n",
       "      <td>5.8</td>\n",
       "      <td>37</td>\n",
       "      <td>30.555366</td>\n",
       "      <td>28</td>\n",
       "    </tr>\n",
       "    <tr>\n",
       "      <th>3</th>\n",
       "      <td>2019</td>\n",
       "      <td>6</td>\n",
       "      <td>3.30</td>\n",
       "      <td>2.413</td>\n",
       "      <td>58.365459</td>\n",
       "      <td>35.302970</td>\n",
       "      <td>52.382284</td>\n",
       "      <td>55.322803</td>\n",
       "      <td>27.846409</td>\n",
       "      <td>47.561597</td>\n",
       "      <td>...</td>\n",
       "      <td>7555</td>\n",
       "      <td>8393</td>\n",
       "      <td>5614</td>\n",
       "      <td>20.1</td>\n",
       "      <td>6.5</td>\n",
       "      <td>17.6</td>\n",
       "      <td>7.0</td>\n",
       "      <td>69</td>\n",
       "      <td>55.818691</td>\n",
       "      <td>40</td>\n",
       "    </tr>\n",
       "    <tr>\n",
       "      <th>4</th>\n",
       "      <td>2019</td>\n",
       "      <td>6</td>\n",
       "      <td>3.45</td>\n",
       "      <td>2.722</td>\n",
       "      <td>43.931946</td>\n",
       "      <td>25.740418</td>\n",
       "      <td>38.472756</td>\n",
       "      <td>39.386097</td>\n",
       "      <td>15.951711</td>\n",
       "      <td>32.226404</td>\n",
       "      <td>...</td>\n",
       "      <td>21811</td>\n",
       "      <td>23387</td>\n",
       "      <td>20021</td>\n",
       "      <td>20.5</td>\n",
       "      <td>5.4</td>\n",
       "      <td>22.3</td>\n",
       "      <td>6.7</td>\n",
       "      <td>53</td>\n",
       "      <td>39.798299</td>\n",
       "      <td>34</td>\n",
       "    </tr>\n",
       "  </tbody>\n",
       "</table>\n",
       "<p>5 rows × 34 columns</p>\n",
       "</div>"
      ],
      "text/plain": [
       "   year  week  new_york_city_diesel_average_gal  \\\n",
       "0  2020    46                              3.45   \n",
       "1  2019    48                              3.36   \n",
       "2  2020     1                              3.02   \n",
       "3  2019     6                              3.30   \n",
       "4  2019     6                              3.45   \n",
       "\n",
       "   new_york_city_gas_average_gal    tempmax    tempmin       temp  \\\n",
       "0                          2.726  69.960045  55.771458  63.915050   \n",
       "1                          2.441  61.785161  43.767806  53.910975   \n",
       "2                          2.475  35.695044  34.002144  28.506260   \n",
       "3                          2.413  58.365459  35.302970  52.382284   \n",
       "4                          2.722  43.931946  25.740418  38.472756   \n",
       "\n",
       "   feelslikemax  feelslikemin  feelslike  ...  Unique_Drivers  \\\n",
       "0     70.442061     54.320028  63.284315  ...             715   \n",
       "1     57.322831     39.137632  50.368255  ...            1506   \n",
       "2     31.862311     27.913897  22.886592  ...            3415   \n",
       "3     55.322803     27.846409  47.561597  ...            7555   \n",
       "4     39.386097     15.951711  32.226404  ...           21811   \n",
       "\n",
       "   Unique_Vehicles  Vehicles_Per_Day  Avg_Days_Vehicles_on_Road  \\\n",
       "0              355               177                       15.5   \n",
       "1              499               433                       27.5   \n",
       "2             2772              1756                       19.9   \n",
       "3             8393              5614                       20.1   \n",
       "4            23387             20021                       20.5   \n",
       "\n",
       "   Avg_Hours_Per_Day_Per_Vehicle  Avg_Days_Drivers_on_Road  \\\n",
       "0                            2.0                      17.6   \n",
       "1                            8.1                      22.3   \n",
       "2                            6.9                      16.1   \n",
       "3                            6.5                      17.6   \n",
       "4                            5.4                      22.3   \n",
       "\n",
       "   Avg_Hours_Per_Day_Per_Driver  Avg_Minutes_Per_Trip       pm25  aqi  \n",
       "0                           3.3                   187  18.100922   13  \n",
       "1                           7.9                   187  43.480374   36  \n",
       "2                           5.8                    37  30.555366   28  \n",
       "3                           7.0                    69  55.818691   40  \n",
       "4                           6.7                    53  39.798299   34  \n",
       "\n",
       "[5 rows x 34 columns]"
      ]
     },
     "execution_count": 51,
     "metadata": {},
     "output_type": "execute_result"
    }
   ],
   "source": [
    "# Create a Dataset with the same number or records as training data\n",
    "np.random.seed(44)\n",
    "sample_data = model_copula.sample(936)\n",
    "sample_data.head()"
   ]
  },
  {
   "cell_type": "code",
   "execution_count": 52,
   "id": "38a449ed",
   "metadata": {},
   "outputs": [
    {
     "data": {
      "text/html": [
       "<div>\n",
       "<style scoped>\n",
       "    .dataframe tbody tr th:only-of-type {\n",
       "        vertical-align: middle;\n",
       "    }\n",
       "\n",
       "    .dataframe tbody tr th {\n",
       "        vertical-align: top;\n",
       "    }\n",
       "\n",
       "    .dataframe thead th {\n",
       "        text-align: right;\n",
       "    }\n",
       "</style>\n",
       "<table border=\"1\" class=\"dataframe\">\n",
       "  <thead>\n",
       "    <tr style=\"text-align: right;\">\n",
       "      <th></th>\n",
       "      <th>year</th>\n",
       "      <th>week</th>\n",
       "      <th>new_york_city_diesel_average_gal</th>\n",
       "      <th>new_york_city_gas_average_gal</th>\n",
       "      <th>tempmax</th>\n",
       "      <th>tempmin</th>\n",
       "      <th>temp</th>\n",
       "      <th>feelslikemax</th>\n",
       "      <th>feelslikemin</th>\n",
       "      <th>feelslike</th>\n",
       "      <th>...</th>\n",
       "      <th>Unique_Drivers</th>\n",
       "      <th>Unique_Vehicles</th>\n",
       "      <th>Vehicles_Per_Day</th>\n",
       "      <th>Avg_Days_Vehicles_on_Road</th>\n",
       "      <th>Avg_Hours_Per_Day_Per_Vehicle</th>\n",
       "      <th>Avg_Days_Drivers_on_Road</th>\n",
       "      <th>Avg_Hours_Per_Day_Per_Driver</th>\n",
       "      <th>Avg_Minutes_Per_Trip</th>\n",
       "      <th>pm25</th>\n",
       "      <th>aqi</th>\n",
       "    </tr>\n",
       "  </thead>\n",
       "  <tbody>\n",
       "    <tr>\n",
       "      <th>0</th>\n",
       "      <td>2018</td>\n",
       "      <td>1</td>\n",
       "      <td>3.15</td>\n",
       "      <td>2.72</td>\n",
       "      <td>22.383333</td>\n",
       "      <td>12.433333</td>\n",
       "      <td>17.166667</td>\n",
       "      <td>13.2</td>\n",
       "      <td>-2.583333</td>\n",
       "      <td>4.55</td>\n",
       "      <td>...</td>\n",
       "      <td>7464</td>\n",
       "      <td>7410</td>\n",
       "      <td>3778</td>\n",
       "      <td>15.8</td>\n",
       "      <td>3.4</td>\n",
       "      <td>15.7</td>\n",
       "      <td>3.4</td>\n",
       "      <td>35</td>\n",
       "      <td>51.666667</td>\n",
       "      <td>34</td>\n",
       "    </tr>\n",
       "    <tr>\n",
       "      <th>1</th>\n",
       "      <td>2018</td>\n",
       "      <td>1</td>\n",
       "      <td>3.15</td>\n",
       "      <td>2.72</td>\n",
       "      <td>22.383333</td>\n",
       "      <td>12.433333</td>\n",
       "      <td>17.166667</td>\n",
       "      <td>13.2</td>\n",
       "      <td>-2.583333</td>\n",
       "      <td>4.55</td>\n",
       "      <td>...</td>\n",
       "      <td>72719</td>\n",
       "      <td>71484</td>\n",
       "      <td>46403</td>\n",
       "      <td>20.1</td>\n",
       "      <td>6.2</td>\n",
       "      <td>19.9</td>\n",
       "      <td>6.1</td>\n",
       "      <td>18</td>\n",
       "      <td>51.666667</td>\n",
       "      <td>34</td>\n",
       "    </tr>\n",
       "    <tr>\n",
       "      <th>2</th>\n",
       "      <td>2018</td>\n",
       "      <td>1</td>\n",
       "      <td>3.15</td>\n",
       "      <td>2.72</td>\n",
       "      <td>22.383333</td>\n",
       "      <td>12.433333</td>\n",
       "      <td>17.166667</td>\n",
       "      <td>13.2</td>\n",
       "      <td>-2.583333</td>\n",
       "      <td>4.55</td>\n",
       "      <td>...</td>\n",
       "      <td>13961</td>\n",
       "      <td>12751</td>\n",
       "      <td>8389</td>\n",
       "      <td>20.4</td>\n",
       "      <td>5.4</td>\n",
       "      <td>19.0</td>\n",
       "      <td>5.3</td>\n",
       "      <td>17</td>\n",
       "      <td>51.666667</td>\n",
       "      <td>34</td>\n",
       "    </tr>\n",
       "    <tr>\n",
       "      <th>3</th>\n",
       "      <td>2018</td>\n",
       "      <td>1</td>\n",
       "      <td>3.15</td>\n",
       "      <td>2.72</td>\n",
       "      <td>22.383333</td>\n",
       "      <td>12.433333</td>\n",
       "      <td>17.166667</td>\n",
       "      <td>13.2</td>\n",
       "      <td>-2.583333</td>\n",
       "      <td>4.55</td>\n",
       "      <td>...</td>\n",
       "      <td>3385</td>\n",
       "      <td>3299</td>\n",
       "      <td>1378</td>\n",
       "      <td>13.0</td>\n",
       "      <td>2.2</td>\n",
       "      <td>13.1</td>\n",
       "      <td>2.2</td>\n",
       "      <td>63</td>\n",
       "      <td>51.666667</td>\n",
       "      <td>34</td>\n",
       "    </tr>\n",
       "    <tr>\n",
       "      <th>4</th>\n",
       "      <td>2018</td>\n",
       "      <td>1</td>\n",
       "      <td>3.15</td>\n",
       "      <td>2.72</td>\n",
       "      <td>22.383333</td>\n",
       "      <td>12.433333</td>\n",
       "      <td>17.166667</td>\n",
       "      <td>13.2</td>\n",
       "      <td>-2.583333</td>\n",
       "      <td>4.55</td>\n",
       "      <td>...</td>\n",
       "      <td>4377</td>\n",
       "      <td>4021</td>\n",
       "      <td>2983</td>\n",
       "      <td>23.0</td>\n",
       "      <td>5.7</td>\n",
       "      <td>21.6</td>\n",
       "      <td>5.5</td>\n",
       "      <td>128</td>\n",
       "      <td>51.666667</td>\n",
       "      <td>34</td>\n",
       "    </tr>\n",
       "  </tbody>\n",
       "</table>\n",
       "<p>5 rows × 34 columns</p>\n",
       "</div>"
      ],
      "text/plain": [
       "   year  week  new_york_city_diesel_average_gal  \\\n",
       "0  2018     1                              3.15   \n",
       "1  2018     1                              3.15   \n",
       "2  2018     1                              3.15   \n",
       "3  2018     1                              3.15   \n",
       "4  2018     1                              3.15   \n",
       "\n",
       "   new_york_city_gas_average_gal    tempmax    tempmin       temp  \\\n",
       "0                           2.72  22.383333  12.433333  17.166667   \n",
       "1                           2.72  22.383333  12.433333  17.166667   \n",
       "2                           2.72  22.383333  12.433333  17.166667   \n",
       "3                           2.72  22.383333  12.433333  17.166667   \n",
       "4                           2.72  22.383333  12.433333  17.166667   \n",
       "\n",
       "   feelslikemax  feelslikemin  feelslike  ...  Unique_Drivers  \\\n",
       "0          13.2     -2.583333       4.55  ...            7464   \n",
       "1          13.2     -2.583333       4.55  ...           72719   \n",
       "2          13.2     -2.583333       4.55  ...           13961   \n",
       "3          13.2     -2.583333       4.55  ...            3385   \n",
       "4          13.2     -2.583333       4.55  ...            4377   \n",
       "\n",
       "   Unique_Vehicles  Vehicles_Per_Day  Avg_Days_Vehicles_on_Road  \\\n",
       "0             7410              3778                       15.8   \n",
       "1            71484             46403                       20.1   \n",
       "2            12751              8389                       20.4   \n",
       "3             3299              1378                       13.0   \n",
       "4             4021              2983                       23.0   \n",
       "\n",
       "   Avg_Hours_Per_Day_Per_Vehicle  Avg_Days_Drivers_on_Road  \\\n",
       "0                            3.4                      15.7   \n",
       "1                            6.2                      19.9   \n",
       "2                            5.4                      19.0   \n",
       "3                            2.2                      13.1   \n",
       "4                            5.7                      21.6   \n",
       "\n",
       "   Avg_Hours_Per_Day_Per_Driver  Avg_Minutes_Per_Trip       pm25  aqi  \n",
       "0                           3.4                    35  51.666667   34  \n",
       "1                           6.1                    18  51.666667   34  \n",
       "2                           5.3                    17  51.666667   34  \n",
       "3                           2.2                    63  51.666667   34  \n",
       "4                           5.5                   128  51.666667   34  \n",
       "\n",
       "[5 rows x 34 columns]"
      ]
     },
     "execution_count": 52,
     "metadata": {},
     "output_type": "execute_result"
    }
   ],
   "source": [
    "nyc_train.head()"
   ]
  },
  {
   "cell_type": "markdown",
   "id": "4d669bc0",
   "metadata": {},
   "source": [
    "### EDA"
   ]
  },
  {
   "cell_type": "code",
   "execution_count": 53,
   "id": "6b88706a",
   "metadata": {
    "scrolled": false
   },
   "outputs": [
    {
     "name": "stdout",
     "output_type": "stream",
     "text": [
      "Distribution of Data By Year Train Data:\n",
      "2018    318\n",
      "2020    318\n",
      "2019    300\n",
      "Name: year, dtype: int64\n",
      "Distribution of Data By Year Train Data:\n",
      "2019    482\n",
      "2018    228\n",
      "2020    226\n",
      "Name: year, dtype: int64\n",
      "Mean of AQI Train Data: 33.35897435897436\n",
      "Mean of AQI Sample Data: 33.19337606837607\n"
     ]
    }
   ],
   "source": [
    "print(f\"Distribution of Data By Year Train Data:\\n{nyc_train.year.value_counts()}\")\n",
    "print(f\"Distribution of Data By Year Train Data:\\n{sample_data.year.value_counts()}\")\n",
    "\n",
    "print(f\"Mean of AQI Train Data: {nyc_train.aqi.mean()}\")\n",
    "print(f\"Mean of AQI Sample Data: {sample_data.aqi.mean()}\")"
   ]
  },
  {
   "cell_type": "code",
   "execution_count": 54,
   "id": "dc660bfe",
   "metadata": {},
   "outputs": [
    {
     "data": {
      "text/html": [
       "<div>\n",
       "<style scoped>\n",
       "    .dataframe tbody tr th:only-of-type {\n",
       "        vertical-align: middle;\n",
       "    }\n",
       "\n",
       "    .dataframe tbody tr th {\n",
       "        vertical-align: top;\n",
       "    }\n",
       "\n",
       "    .dataframe thead th {\n",
       "        text-align: right;\n",
       "    }\n",
       "</style>\n",
       "<table border=\"1\" class=\"dataframe\">\n",
       "  <thead>\n",
       "    <tr style=\"text-align: right;\">\n",
       "      <th></th>\n",
       "      <th>metric</th>\n",
       "      <th>name</th>\n",
       "      <th>raw_score</th>\n",
       "      <th>normalized_score</th>\n",
       "      <th>min_value</th>\n",
       "      <th>max_value</th>\n",
       "      <th>goal</th>\n",
       "      <th>error</th>\n",
       "    </tr>\n",
       "  </thead>\n",
       "  <tbody>\n",
       "    <tr>\n",
       "      <th>0</th>\n",
       "      <td>CSTest</td>\n",
       "      <td>Chi-Squared</td>\n",
       "      <td>NaN</td>\n",
       "      <td>NaN</td>\n",
       "      <td>0.0</td>\n",
       "      <td>1.0</td>\n",
       "      <td>MAXIMIZE</td>\n",
       "      <td>Cannot find fields of types ('boolean', 'categ...</td>\n",
       "    </tr>\n",
       "    <tr>\n",
       "      <th>1</th>\n",
       "      <td>KSTest</td>\n",
       "      <td>Inverted Kolmogorov-Smirnov D statistic</td>\n",
       "      <td>0.894294</td>\n",
       "      <td>0.894294</td>\n",
       "      <td>0.0</td>\n",
       "      <td>1.0</td>\n",
       "      <td>MAXIMIZE</td>\n",
       "      <td>None</td>\n",
       "    </tr>\n",
       "  </tbody>\n",
       "</table>\n",
       "</div>"
      ],
      "text/plain": [
       "   metric                                     name  raw_score  \\\n",
       "0  CSTest                              Chi-Squared        NaN   \n",
       "1  KSTest  Inverted Kolmogorov-Smirnov D statistic   0.894294   \n",
       "\n",
       "   normalized_score  min_value  max_value      goal  \\\n",
       "0               NaN        0.0        1.0  MAXIMIZE   \n",
       "1          0.894294        0.0        1.0  MAXIMIZE   \n",
       "\n",
       "                                               error  \n",
       "0  Cannot find fields of types ('boolean', 'categ...  \n",
       "1                                               None  "
      ]
     },
     "execution_count": 54,
     "metadata": {},
     "output_type": "execute_result"
    }
   ],
   "source": [
    "# Kolmogorov-Smirnov and Chi-Squared tests to compare train and sample data\n",
    "from sdv.evaluation import evaluate\n",
    "evaluate(sample_data, nyc_train, metrics = ['CSTest', 'KSTest'], aggregate = False)"
   ]
  },
  {
   "cell_type": "markdown",
   "id": "b9fe39f4",
   "metadata": {},
   "source": [
    "### Model\n",
    "1. Create X and Y sets from Sample Data\n",
    "2. Use the saved model to evalute the sample data"
   ]
  },
  {
   "cell_type": "code",
   "execution_count": 56,
   "id": "f4bed8a2",
   "metadata": {},
   "outputs": [],
   "source": [
    "# Scale Data\n",
    "nyc_sample_X_train = sample_data.drop(['pm25','aqi'], axis = 1)\n",
    "nyc_sample_y_train = sample_data[['aqi']]\n",
    "nyc_sample_X_train = StandardScaler().fit_transform(nyc_sample_X_train)\n",
    "nyc_sample_y_train = StandardScaler().fit_transform(nyc_sample_y_train)"
   ]
  },
  {
   "cell_type": "code",
   "execution_count": 57,
   "id": "6cfc0403",
   "metadata": {},
   "outputs": [],
   "source": [
    "# Evaluate Data\n",
    "loaded_model = tf.keras.models.load_model('Models/Model_1')"
   ]
  },
  {
   "cell_type": "code",
   "execution_count": 58,
   "id": "a8a36fb1",
   "metadata": {},
   "outputs": [
    {
     "name": "stdout",
     "output_type": "stream",
     "text": [
      "30/30 [==============================] - 0s 2ms/step - loss: 1.2419 - mean_squared_error: 1.2419\n"
     ]
    },
    {
     "data": {
      "text/plain": [
       "[1.241913080215454, 1.241913080215454]"
      ]
     },
     "execution_count": 58,
     "metadata": {},
     "output_type": "execute_result"
    }
   ],
   "source": [
    "loaded_model.evaluate(nyc_sample_X_train, nyc_sample_y_train)"
   ]
  },
  {
   "cell_type": "markdown",
   "id": "3b36e3f6",
   "metadata": {},
   "source": [
    "The MSE is very comparable to training data MSE"
   ]
  },
  {
   "cell_type": "markdown",
   "id": "fd5332db",
   "metadata": {},
   "source": [
    "#### Combine Datasets and Model and Evaluate on Test Data"
   ]
  },
  {
   "cell_type": "code",
   "execution_count": 59,
   "id": "7bdb207e",
   "metadata": {},
   "outputs": [
    {
     "name": "stdout",
     "output_type": "stream",
     "text": [
      "Length of Training Data: 1872\n"
     ]
    }
   ],
   "source": [
    "nyc_combined_train = pd.concat([nyc_train, sample_data])\n",
    "print(f\"Length of Training Data: {len(nyc_combined_train)}\")\n",
    "\n",
    "# Shuffle Data\n",
    "nyc_combined_train = nyc_combined_train.sample(frac=1).reset_index(drop=True)"
   ]
  },
  {
   "cell_type": "code",
   "execution_count": 61,
   "id": "3c853460",
   "metadata": {},
   "outputs": [],
   "source": [
    "# Split and Scale Data\n",
    "nyc_combined_X_train = nyc_combined_train.drop(['pm25','aqi'], axis = 1)\n",
    "nyc_combined_y_train = nyc_combined_train[['aqi']]\n",
    "nyc_combined_X_train = StandardScaler().fit_transform(nyc_combined_X_train)\n",
    "nyc_combined_y_train = StandardScaler().fit_transform(nyc_combined_y_train)"
   ]
  },
  {
   "cell_type": "code",
   "execution_count": 62,
   "id": "3256a63c",
   "metadata": {},
   "outputs": [],
   "source": [
    "# Compile and Fit Model\n",
    "tf.random.set_seed(44)\n",
    "model.compile(loss= \"mean_squared_error\" , optimizer=\"adam\", metrics=[\"mean_squared_error\"])\n",
    "history_2 = model.fit(nyc_combined_X_train, nyc_combined_y_train, epochs=50, verbose = 0)"
   ]
  },
  {
   "cell_type": "code",
   "execution_count": 63,
   "id": "bea904bf",
   "metadata": {},
   "outputs": [
    {
     "name": "stdout",
     "output_type": "stream",
     "text": [
      "10/10 [==============================] - 1s 2ms/step - loss: 0.8812 - mean_squared_error: 0.8812\n"
     ]
    },
    {
     "data": {
      "text/plain": [
       "[0.8811631798744202, 0.8811631798744202]"
      ]
     },
     "execution_count": 63,
     "metadata": {},
     "output_type": "execute_result"
    }
   ],
   "source": [
    "# Evaluate Model\n",
    "model.evaluate(scaled_nyc_X_test, scaled_nyc_y_test)"
   ]
  },
  {
   "cell_type": "code",
   "execution_count": 64,
   "id": "d075518f",
   "metadata": {},
   "outputs": [],
   "source": [
    "predictions_2 = model.predict(scaled_nyc_X_test)"
   ]
  },
  {
   "cell_type": "code",
   "execution_count": 66,
   "id": "f032dc42",
   "metadata": {},
   "outputs": [
    {
     "data": {
      "image/png": "[encoded data removed]",
      "text/plain": [
       "<Figure size 720x360 with 1 Axes>"
      ]
     },
     "metadata": {
      "needs_background": "light"
     },
     "output_type": "display_data"
    }
   ],
   "source": [
    "# Plot True Values and Predictions\n",
    "plt.figure(figsize = (10,5))\n",
    "plt.plot(scaled_nyc_y_test, c = 'green', label = \"True Values\")\n",
    "plt.plot(predictions_2, c = \"red\", label = \"Predictions\")\n",
    "plt.legend()\n",
    "plt.show()"
   ]
  },
  {
   "cell_type": "code",
   "execution_count": 67,
   "id": "3591bf22",
   "metadata": {
    "scrolled": false
   },
   "outputs": [
    {
     "name": "stdout",
     "output_type": "stream",
     "text": [
      "INFO:tensorflow:Assets written to: Models/Model_2/assets\n"
     ]
    }
   ],
   "source": [
    "# Save Model\n",
    "model.save('Models/Model_2')"
   ]
  },
  {
   "cell_type": "markdown",
   "id": "3a95392d",
   "metadata": {},
   "source": [
    "### Model 4: Sequential From Model 3"
   ]
  },
  {
   "cell_type": "code",
   "execution_count": 272,
   "id": "c0486c20",
   "metadata": {},
   "outputs": [],
   "source": [
    "# Build Fully Connect Neural Net using Functional API\n",
    "tf.random.set_seed(44)\n",
    "\n",
    "model_4 = tf.keras.Sequential()\n",
    "model_4.add(tf.keras.layers.Dense(500, input_dim=32, activation= \"relu\"))\n",
    "model_4.add(tf.keras.layers.Dense(500, activation = \"relu\"))\n",
    "model_4.add(tf.keras.layers.Dense(500, activation = \"relu\"))\n",
    "model_4.add(tf.keras.layers.Dense(250, activation= \"relu\"))\n",
    "model_4.add(tf.keras.layers.Dense(250, activation= \"relu\"))\n",
    "model_4.add(tf.keras.layers.Dense(100, activation= \"relu\"))\n",
    "model_4.add(tf.keras.layers.Dense(100, activation= \"relu\"))\n",
    "model_4.add(tf.keras.layers.Dense(50, activation= \"relu\"))\n",
    "model_4.add(tf.keras.layers.Dense(1))    "
   ]
  },
  {
   "cell_type": "code",
   "execution_count": 264,
   "id": "aa8c89d2",
   "metadata": {},
   "outputs": [],
   "source": [
    "model_4.compile(loss= \"mean_squared_error\", optimizer=\"adam\", metrics=[\"mean_squared_error\"])"
   ]
  },
  {
   "cell_type": "code",
   "execution_count": 265,
   "id": "dfee87ae",
   "metadata": {},
   "outputs": [],
   "source": [
    "history_4 = model_4.fit(nyc_combined_X_train, nyc_combined_y_train, epochs=50, verbose = 0)"
   ]
  },
  {
   "cell_type": "code",
   "execution_count": 266,
   "id": "f052b3f0",
   "metadata": {
    "scrolled": true
   },
   "outputs": [
    {
     "name": "stdout",
     "output_type": "stream",
     "text": [
      "10/10 [==============================] - 0s 3ms/step - loss: 0.8957 - mean_squared_error: 0.8957\n"
     ]
    },
    {
     "data": {
      "text/plain": [
       "[0.8957338929176331, 0.8957338929176331]"
      ]
     },
     "execution_count": 266,
     "metadata": {},
     "output_type": "execute_result"
    }
   ],
   "source": [
    "model_4.evaluate(scaled_nyc_X_test, scaled_nyc_y_test)"
   ]
  },
  {
   "cell_type": "code",
   "execution_count": 267,
   "id": "630cd791",
   "metadata": {},
   "outputs": [],
   "source": [
    "predictions_4 = model_4.predict(scaled_nyc_X_test)"
   ]
  },
  {
   "cell_type": "code",
   "execution_count": 268,
   "id": "fdbfd18d",
   "metadata": {},
   "outputs": [
    {
     "data": {
      "image/png": "[encoded data removed]",
      "text/plain": [
       "<Figure size 720x360 with 1 Axes>"
      ]
     },
     "metadata": {
      "needs_background": "light"
     },
     "output_type": "display_data"
    }
   ],
   "source": [
    "# Plot True Values and Predictions\n",
    "plt.figure(figsize = (10,5))\n",
    "plt.plot(scaled_nyc_y_test, c = 'green', label = \"True Values\")\n",
    "plt.plot(predictions_4, c = \"red\", label = \"Predictions\")\n",
    "plt.legend()\n",
    "plt.show()"
   ]
  },
  {
   "cell_type": "code",
   "execution_count": 269,
   "id": "60a099f6",
   "metadata": {},
   "outputs": [
    {
     "name": "stdout",
     "output_type": "stream",
     "text": [
      "INFO:tensorflow:Assets written to: Models/Model_4/assets\n"
     ]
    }
   ],
   "source": [
    "model_4.save('Models/Model_4')"
   ]
  },
  {
   "cell_type": "markdown",
   "id": "f29d5671",
   "metadata": {},
   "source": [
    "**Model 4 is the best model so far - Transfer model knowledge to Chicago and Philly**"
   ]
  },
  {
   "cell_type": "markdown",
   "id": "3222a348",
   "metadata": {},
   "source": [
    "## Transfer Learning\n",
    "\n",
    "Transfer Knowledge from NYC Model 4 to Chicago and Philly"
   ]
  },
  {
   "cell_type": "code",
   "execution_count": null,
   "id": "f8f8410f",
   "metadata": {},
   "outputs": [],
   "source": [
    "# Create a Custom Nueral Net API using Model 4\n",
    "\n",
    "def SourceCityNet(include_top = True,\n",
    "             weights='imagenet',\n",
    "             input_tensor=None,\n",
    "             input_shape=None,\n",
    "             pooling=None,\n",
    "             classes=1000,\n",
    "             **kwargs):\n",
    "    \n",
    "    \n",
    "    if input_tensor is None:\n",
    "        \n",
    "        X_train_input = tf.keras.layers.Input(shape = input_shape)\n",
    "        \n",
    "    else:\n",
    "        \n",
    "        if not backend.is_keras_tensor(input_tensor):\n",
    "            \n",
    "            X_train_input = tf.keras.layers.Input(tensor=input_tensor, \n",
    "                                                  shape=input_shape)\n",
    "            \n",
    "        else:\n",
    "            \n",
    "            X_train_input = input_tensor\n",
    "                \n",
    "                \n",
    "    x = tf.keras.layers.Dense(500, activation= \"relu\")(X_train_input)\n",
    "    x = tf.keras.layers.Dense(500, activation = \"relu\")(x)\n",
    "    x = tf.keras.layers.Dense(500, activation = \"relu\")(x)\n",
    "    x = tf.keras.layers.Dense(250, activation= \"relu\")(x)\n",
    "    x = tf.keras.layers.Dense(250, activation= \"relu\")(x)\n",
    "    x = tf.keras.layers.Dense(100, activation= \"relu\")(x)\n",
    "    x = tf.keras.layers.Dense(100, activation= \"relu\")(x)\n",
    "    \n",
    "    \n",
    "    x = tf.keras.layers.Dense(50, activation= \"relu\")(x)\n",
    "    x = tf.keras.layers.Dense(1)(x)\n",
    "            \n",
    "            \n",
    "\n"
   ]
  },
  {
   "cell_type": "code",
   "execution_count": null,
   "id": "79db37aa",
   "metadata": {},
   "outputs": [],
   "source": [
    "model_tranfer_test.evaluate(scaled_nyc_X_test, scaled_nyc_y_test)"
   ]
  },
  {
   "cell_type": "markdown",
   "id": "105585b0",
   "metadata": {},
   "source": [
    "### Chicago"
   ]
  },
  {
   "cell_type": "code",
   "execution_count": 282,
   "id": "e3a109f0",
   "metadata": {},
   "outputs": [],
   "source": [
    "# -- Scale Data using Standard Scaler Function -- #\n",
    "\n",
    "scaled_chicago_X_train, scaled_chicago_y_train, scaled_chicago_X_test, scaled_chicago_y_test = scale_data(chicago_X_train, chicago_y_train, chicago_X_test, chicago_y_test)"
   ]
  },
  {
   "cell_type": "markdown",
   "id": "fa7fe2ea",
   "metadata": {},
   "source": [
    "#### Transfer Model 4 on Scaled Chicago Data"
   ]
  },
  {
   "cell_type": "code",
   "execution_count": null,
   "id": "d44903a4",
   "metadata": {},
   "outputs": [],
   "source": []
  }
 ],
 "metadata": {
  "kernelspec": {
   "display_name": "Python 3 (ipykernel)",
   "language": "python",
   "name": "python3"
  },
  "language_info": {
   "codemirror_mode": {
    "name": "ipython",
    "version": 3
   },
   "file_extension": ".py",
   "mimetype": "text/x-python",
   "name": "python",
   "nbconvert_exporter": "python",
   "pygments_lexer": "ipython3",
   "version": "3.8.8"
  }
 },
 "nbformat": 4,
 "nbformat_minor": 5
}
