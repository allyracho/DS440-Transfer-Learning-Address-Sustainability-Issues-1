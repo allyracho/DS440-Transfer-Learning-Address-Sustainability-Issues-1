{
 "cells": [
  {
   "cell_type": "markdown",
   "id": "48d18c23",
   "metadata": {},
   "source": [
    "## Import Dependencies & Azure Keys"
   ]
  },
  {
   "cell_type": "code",
   "execution_count": 1,
   "id": "8253fbf3",
   "metadata": {},
   "outputs": [],
   "source": [
    "import pandas as pd\n",
    "import pyodbc\n",
    "import os\n",
    "from sklearn.ensemble import RandomForestRegressor\n",
    "import warnings\n",
    "warnings.filterwarnings(\"ignore\")       \n",
    "from sklearn.decomposition import PCA\n",
    "import tensorflow as tf\n",
    "import matplotlib.pyplot as plt\n",
    "import numpy as np\n",
    "\n",
    "server = 'sustprediction.database.windows.net'\n",
    "database = 'sustainability'\n",
    "username = 'capstone'\n",
    "password = '{ds440@grp6}'   \n",
    "driver= '{ODBC Driver 17 for SQL Server}'"
   ]
  },
  {
   "cell_type": "markdown",
   "id": "b759a979",
   "metadata": {},
   "source": [
    "## Fetch Data NYC Version 2"
   ]
  },
  {
   "cell_type": "code",
   "execution_count": 2,
   "id": "9c9f776a",
   "metadata": {},
   "outputs": [],
   "source": [
    "def nyc_v2():\n",
    "\n",
    "    conn = pyodbc.connect('DRIVER='+driver+';SERVER=tcp:'+server+';PORT=1433;DATABASE='+database+';UID='+username+';PWD='+ password)\n",
    "\n",
    "    # NYC V2 Data\n",
    "    nyc = conn.cursor().execute(\"SELECT * FROM dbo.newyork_v2\").fetchall() \n",
    "    columns = conn.cursor().execute(\"SELECT * FROM sys.columns WHERE object_id = OBJECT_ID('dbo.newyork_v2')\").fetchall()\n",
    "    columns_df = pd.DataFrame([tuple(t) for t in columns])\n",
    "    list_names = list(columns_df[1])\n",
    "    nyc_df = pd.DataFrame([tuple(t) for t in nyc], columns = list_names)\n",
    "    return nyc_df"
   ]
  },
  {
   "cell_type": "code",
   "execution_count": 3,
   "id": "fb27a949",
   "metadata": {},
   "outputs": [
    {
     "data": {
      "text/html": [
       "<div>\n",
       "<style scoped>\n",
       "    .dataframe tbody tr th:only-of-type {\n",
       "        vertical-align: middle;\n",
       "    }\n",
       "\n",
       "    .dataframe tbody tr th {\n",
       "        vertical-align: top;\n",
       "    }\n",
       "\n",
       "    .dataframe thead th {\n",
       "        text-align: right;\n",
       "    }\n",
       "</style>\n",
       "<table border=\"1\" class=\"dataframe\">\n",
       "  <thead>\n",
       "    <tr style=\"text-align: right;\">\n",
       "      <th></th>\n",
       "      <th>year</th>\n",
       "      <th>week</th>\n",
       "      <th>new_york_city_diesel_average_gal</th>\n",
       "      <th>new_york_city_gas_average_gal</th>\n",
       "      <th>tempmax</th>\n",
       "      <th>tempmin</th>\n",
       "      <th>temp</th>\n",
       "      <th>feelslikemax</th>\n",
       "      <th>feelslikemin</th>\n",
       "      <th>feelslike</th>\n",
       "      <th>...</th>\n",
       "      <th>Unique_Drivers</th>\n",
       "      <th>Unique_Vehicles</th>\n",
       "      <th>Vehicles_Per_Day</th>\n",
       "      <th>Avg_Days_Vehicles_on_Road</th>\n",
       "      <th>Avg_Hours_Per_Day_Per_Vehicle</th>\n",
       "      <th>Avg_Days_Drivers_on_Road</th>\n",
       "      <th>Avg_Hours_Per_Day_Per_Driver</th>\n",
       "      <th>Avg_Minutes_Per_Trip</th>\n",
       "      <th>pm25</th>\n",
       "      <th>aqi</th>\n",
       "    </tr>\n",
       "  </thead>\n",
       "  <tbody>\n",
       "    <tr>\n",
       "      <th>0</th>\n",
       "      <td>2018</td>\n",
       "      <td>1</td>\n",
       "      <td>3.15</td>\n",
       "      <td>2.72</td>\n",
       "      <td>22.383333</td>\n",
       "      <td>12.433333</td>\n",
       "      <td>17.166667</td>\n",
       "      <td>13.2</td>\n",
       "      <td>-2.583333</td>\n",
       "      <td>4.55</td>\n",
       "      <td>...</td>\n",
       "      <td>7464</td>\n",
       "      <td>7410</td>\n",
       "      <td>3778</td>\n",
       "      <td>15.8</td>\n",
       "      <td>3.4</td>\n",
       "      <td>15.7</td>\n",
       "      <td>3.4</td>\n",
       "      <td>35</td>\n",
       "      <td>51.666667</td>\n",
       "      <td>34.142857</td>\n",
       "    </tr>\n",
       "    <tr>\n",
       "      <th>1</th>\n",
       "      <td>2018</td>\n",
       "      <td>1</td>\n",
       "      <td>3.15</td>\n",
       "      <td>2.72</td>\n",
       "      <td>22.383333</td>\n",
       "      <td>12.433333</td>\n",
       "      <td>17.166667</td>\n",
       "      <td>13.2</td>\n",
       "      <td>-2.583333</td>\n",
       "      <td>4.55</td>\n",
       "      <td>...</td>\n",
       "      <td>72719</td>\n",
       "      <td>71484</td>\n",
       "      <td>46403</td>\n",
       "      <td>20.1</td>\n",
       "      <td>6.2</td>\n",
       "      <td>19.9</td>\n",
       "      <td>6.1</td>\n",
       "      <td>18</td>\n",
       "      <td>51.666667</td>\n",
       "      <td>34.142857</td>\n",
       "    </tr>\n",
       "    <tr>\n",
       "      <th>2</th>\n",
       "      <td>2018</td>\n",
       "      <td>1</td>\n",
       "      <td>3.15</td>\n",
       "      <td>2.72</td>\n",
       "      <td>22.383333</td>\n",
       "      <td>12.433333</td>\n",
       "      <td>17.166667</td>\n",
       "      <td>13.2</td>\n",
       "      <td>-2.583333</td>\n",
       "      <td>4.55</td>\n",
       "      <td>...</td>\n",
       "      <td>13961</td>\n",
       "      <td>12751</td>\n",
       "      <td>8389</td>\n",
       "      <td>20.4</td>\n",
       "      <td>5.4</td>\n",
       "      <td>19.0</td>\n",
       "      <td>5.3</td>\n",
       "      <td>17</td>\n",
       "      <td>51.666667</td>\n",
       "      <td>34.142857</td>\n",
       "    </tr>\n",
       "    <tr>\n",
       "      <th>3</th>\n",
       "      <td>2018</td>\n",
       "      <td>1</td>\n",
       "      <td>3.15</td>\n",
       "      <td>2.72</td>\n",
       "      <td>22.383333</td>\n",
       "      <td>12.433333</td>\n",
       "      <td>17.166667</td>\n",
       "      <td>13.2</td>\n",
       "      <td>-2.583333</td>\n",
       "      <td>4.55</td>\n",
       "      <td>...</td>\n",
       "      <td>3385</td>\n",
       "      <td>3299</td>\n",
       "      <td>1378</td>\n",
       "      <td>13.0</td>\n",
       "      <td>2.2</td>\n",
       "      <td>13.1</td>\n",
       "      <td>2.2</td>\n",
       "      <td>63</td>\n",
       "      <td>51.666667</td>\n",
       "      <td>34.142857</td>\n",
       "    </tr>\n",
       "    <tr>\n",
       "      <th>4</th>\n",
       "      <td>2018</td>\n",
       "      <td>1</td>\n",
       "      <td>3.15</td>\n",
       "      <td>2.72</td>\n",
       "      <td>22.383333</td>\n",
       "      <td>12.433333</td>\n",
       "      <td>17.166667</td>\n",
       "      <td>13.2</td>\n",
       "      <td>-2.583333</td>\n",
       "      <td>4.55</td>\n",
       "      <td>...</td>\n",
       "      <td>4377</td>\n",
       "      <td>4021</td>\n",
       "      <td>2983</td>\n",
       "      <td>23.0</td>\n",
       "      <td>5.7</td>\n",
       "      <td>21.6</td>\n",
       "      <td>5.5</td>\n",
       "      <td>128</td>\n",
       "      <td>51.666667</td>\n",
       "      <td>34.142857</td>\n",
       "    </tr>\n",
       "  </tbody>\n",
       "</table>\n",
       "<p>5 rows × 34 columns</p>\n",
       "</div>"
      ],
      "text/plain": [
       "   year  week  new_york_city_diesel_average_gal  \\\n",
       "0  2018     1                              3.15   \n",
       "1  2018     1                              3.15   \n",
       "2  2018     1                              3.15   \n",
       "3  2018     1                              3.15   \n",
       "4  2018     1                              3.15   \n",
       "\n",
       "   new_york_city_gas_average_gal    tempmax    tempmin       temp  \\\n",
       "0                           2.72  22.383333  12.433333  17.166667   \n",
       "1                           2.72  22.383333  12.433333  17.166667   \n",
       "2                           2.72  22.383333  12.433333  17.166667   \n",
       "3                           2.72  22.383333  12.433333  17.166667   \n",
       "4                           2.72  22.383333  12.433333  17.166667   \n",
       "\n",
       "   feelslikemax  feelslikemin  feelslike  ...  Unique_Drivers  \\\n",
       "0          13.2     -2.583333       4.55  ...            7464   \n",
       "1          13.2     -2.583333       4.55  ...           72719   \n",
       "2          13.2     -2.583333       4.55  ...           13961   \n",
       "3          13.2     -2.583333       4.55  ...            3385   \n",
       "4          13.2     -2.583333       4.55  ...            4377   \n",
       "\n",
       "   Unique_Vehicles  Vehicles_Per_Day  Avg_Days_Vehicles_on_Road  \\\n",
       "0             7410              3778                       15.8   \n",
       "1            71484             46403                       20.1   \n",
       "2            12751              8389                       20.4   \n",
       "3             3299              1378                       13.0   \n",
       "4             4021              2983                       23.0   \n",
       "\n",
       "   Avg_Hours_Per_Day_Per_Vehicle  Avg_Days_Drivers_on_Road  \\\n",
       "0                            3.4                      15.7   \n",
       "1                            6.2                      19.9   \n",
       "2                            5.4                      19.0   \n",
       "3                            2.2                      13.1   \n",
       "4                            5.7                      21.6   \n",
       "\n",
       "   Avg_Hours_Per_Day_Per_Driver  Avg_Minutes_Per_Trip       pm25        aqi  \n",
       "0                           3.4                    35  51.666667  34.142857  \n",
       "1                           6.1                    18  51.666667  34.142857  \n",
       "2                           5.3                    17  51.666667  34.142857  \n",
       "3                           2.2                    63  51.666667  34.142857  \n",
       "4                           5.5                   128  51.666667  34.142857  \n",
       "\n",
       "[5 rows x 34 columns]"
      ]
     },
     "execution_count": 3,
     "metadata": {},
     "output_type": "execute_result"
    }
   ],
   "source": [
    "data = nyc_v2()\n",
    "data.head()"
   ]
  },
  {
   "cell_type": "markdown",
   "id": "ee4e19d8",
   "metadata": {},
   "source": [
    "## Preprocessing"
   ]
  },
  {
   "cell_type": "code",
   "execution_count": 4,
   "id": "2394a9b2",
   "metadata": {
    "scrolled": true
   },
   "outputs": [
    {
     "name": "stdout",
     "output_type": "stream",
     "text": [
      "Train Data Years: [2018 2019 2020]\n",
      "Test Data Years: [2021]\n",
      "X_train Shape: (936, 32)\n",
      "X_test Shape: (318, 32)\n"
     ]
    }
   ],
   "source": [
    "data['License_Class'] = data['License_Class'].astype('category').cat.codes\n",
    "data['aqi'] = data['aqi'].astype(int)\n",
    "train = data[data['year'] != 2021]\n",
    "test = data[data['year'] == 2021]\n",
    "print(f\"Train Data Years: {train.year.unique()}\")\n",
    "print(f\"Test Data Years: {test.year.unique()}\")\n",
    "\n",
    "X_train = train.drop(['pm25','aqi'], axis = 1)\n",
    "y_train = train[['aqi']]\n",
    "X_test = test.drop(['pm25','aqi'], axis = 1)\n",
    "y_test = test[['aqi']]\n",
    "\n",
    "print(f\"X_train Shape: {X_train.shape}\")\n",
    "print(f\"X_test Shape: {X_test.shape}\")"
   ]
  },
  {
   "cell_type": "markdown",
   "id": "2d9e2480",
   "metadata": {},
   "source": [
    "### Standard Scaler"
   ]
  },
  {
   "cell_type": "code",
   "execution_count": 5,
   "id": "760ce619",
   "metadata": {},
   "outputs": [],
   "source": [
    "from sklearn.preprocessing import StandardScaler\n",
    "sc_X = StandardScaler()\n",
    "sc_y = StandardScaler()\n",
    "X_train = sc_X.fit_transform(X_train)\n",
    "y_train = sc_y.fit_transform(y_train)\n",
    "X_test = sc_X.fit_transform(X_test)\n",
    "y_test = sc_y.fit_transform(y_test)"
   ]
  },
  {
   "cell_type": "markdown",
   "id": "878b59ee",
   "metadata": {},
   "source": [
    "## Model 1: Random Forest Regressor"
   ]
  },
  {
   "cell_type": "code",
   "execution_count": 6,
   "id": "11cedb3e",
   "metadata": {},
   "outputs": [
    {
     "name": "stdout",
     "output_type": "stream",
     "text": [
      "Random Forest Regressor Score: 1.1815440376669595\n"
     ]
    }
   ],
   "source": [
    "rfr = RandomForestRegressor(n_estimators=80, criterion=\"mse\", \n",
    "                            min_samples_leaf=3, min_samples_split=3, \n",
    "                            max_depth=5).fit(X_train, y_train)\n",
    "\n",
    "print(f\"Random Forest Regressor Score: {rfr.score(X_test, y_test) * 100}\")"
   ]
  },
  {
   "cell_type": "markdown",
   "id": "8bf2abdf",
   "metadata": {},
   "source": [
    "## Model 2: SVM"
   ]
  },
  {
   "cell_type": "code",
   "execution_count": 7,
   "id": "332e029c",
   "metadata": {},
   "outputs": [
    {
     "name": "stdout",
     "output_type": "stream",
     "text": [
      "Support Vector Machines: -18.846528996700318\n"
     ]
    }
   ],
   "source": [
    "from sklearn.svm import SVR\n",
    "regressor = SVR(kernel = 'rbf').fit(X_train, y_train)\n",
    "print(f\"Support Vector Machines: {regressor.score(X_test, y_test) * 100}\")"
   ]
  },
  {
   "cell_type": "markdown",
   "id": "aede6495",
   "metadata": {},
   "source": [
    "## Model 3: Sequential"
   ]
  },
  {
   "cell_type": "code",
   "execution_count": 28,
   "id": "2077aaac",
   "metadata": {},
   "outputs": [],
   "source": [
    "model = tf.keras.Sequential()\n",
    "model.add(tf.keras.layers.Dense(500, input_dim=32, activation= \"relu\"))\n",
    "model.add(tf.keras.layers.Dense(500, activation = \"relu\"))\n",
    "model.add(tf.keras.layers.Dense(100, activation= \"relu\"))\n",
    "model.add(tf.keras.layers.Dense(50, activation= \"sigmoid\"))\n",
    "model.add(tf.keras.layers.Dense(1))"
   ]
  },
  {
   "cell_type": "code",
   "execution_count": 29,
   "id": "54d39c6b",
   "metadata": {},
   "outputs": [
    {
     "name": "stdout",
     "output_type": "stream",
     "text": [
      "Model: \"sequential_2\"\n",
      "_________________________________________________________________\n",
      " Layer (type)                Output Shape              Param #   \n",
      "=================================================================\n",
      " dense_9 (Dense)             (None, 500)               16500     \n",
      "                                                                 \n",
      " dense_10 (Dense)            (None, 500)               250500    \n",
      "                                                                 \n",
      " dense_11 (Dense)            (None, 100)               50100     \n",
      "                                                                 \n",
      " dense_12 (Dense)            (None, 50)                5050      \n",
      "                                                                 \n",
      " dense_13 (Dense)            (None, 1)                 51        \n",
      "                                                                 \n",
      "=================================================================\n",
      "Total params: 322,201\n",
      "Trainable params: 322,201\n",
      "Non-trainable params: 0\n",
      "_________________________________________________________________\n"
     ]
    }
   ],
   "source": [
    "model.summary()"
   ]
  },
  {
   "cell_type": "code",
   "execution_count": 30,
   "id": "1c2c9564",
   "metadata": {},
   "outputs": [
    {
     "name": "stdout",
     "output_type": "stream",
     "text": [
      "Epoch 1/20\n",
      "30/30 [==============================] - 0s 3ms/step - loss: 0.8251 - mean_squared_error: 0.8251\n",
      "Epoch 2/20\n",
      "30/30 [==============================] - 0s 3ms/step - loss: 0.4959 - mean_squared_error: 0.4959\n",
      "Epoch 3/20\n",
      "30/30 [==============================] - 0s 3ms/step - loss: 0.3593 - mean_squared_error: 0.3593\n",
      "Epoch 4/20\n",
      "30/30 [==============================] - 0s 3ms/step - loss: 0.2665 - mean_squared_error: 0.2665\n",
      "Epoch 5/20\n",
      "30/30 [==============================] - 0s 3ms/step - loss: 0.1913 - mean_squared_error: 0.1913\n",
      "Epoch 6/20\n",
      "30/30 [==============================] - 0s 3ms/step - loss: 0.1179 - mean_squared_error: 0.1179\n",
      "Epoch 7/20\n",
      "30/30 [==============================] - 0s 3ms/step - loss: 0.0869 - mean_squared_error: 0.0869\n",
      "Epoch 8/20\n",
      "30/30 [==============================] - 0s 3ms/step - loss: 0.0559 - mean_squared_error: 0.0559\n",
      "Epoch 9/20\n",
      "30/30 [==============================] - 0s 3ms/step - loss: 0.0471 - mean_squared_error: 0.0471\n",
      "Epoch 10/20\n",
      "30/30 [==============================] - 0s 3ms/step - loss: 0.0484 - mean_squared_error: 0.0484\n",
      "Epoch 11/20\n",
      "30/30 [==============================] - 0s 3ms/step - loss: 0.0278 - mean_squared_error: 0.0278\n",
      "Epoch 12/20\n",
      "30/30 [==============================] - 0s 3ms/step - loss: 0.0298 - mean_squared_error: 0.0298\n",
      "Epoch 13/20\n",
      "30/30 [==============================] - 0s 3ms/step - loss: 0.0199 - mean_squared_error: 0.0199\n",
      "Epoch 14/20\n",
      "30/30 [==============================] - 0s 3ms/step - loss: 0.0095 - mean_squared_error: 0.0095\n",
      "Epoch 15/20\n",
      "30/30 [==============================] - 0s 3ms/step - loss: 0.0063 - mean_squared_error: 0.0063\n",
      "Epoch 16/20\n",
      "30/30 [==============================] - 0s 3ms/step - loss: 0.0097 - mean_squared_error: 0.0097\n",
      "Epoch 17/20\n",
      "30/30 [==============================] - 0s 3ms/step - loss: 0.0057 - mean_squared_error: 0.0057\n",
      "Epoch 18/20\n",
      "30/30 [==============================] - 0s 3ms/step - loss: 0.0031 - mean_squared_error: 0.0031\n",
      "Epoch 19/20\n",
      "30/30 [==============================] - 0s 3ms/step - loss: 0.0029 - mean_squared_error: 0.0029\n",
      "Epoch 20/20\n",
      "30/30 [==============================] - 0s 3ms/step - loss: 0.0030 - mean_squared_error: 0.0030\n"
     ]
    },
    {
     "data": {
      "text/plain": [
       "<keras.callbacks.History at 0x133045c30>"
      ]
     },
     "execution_count": 30,
     "metadata": {},
     "output_type": "execute_result"
    }
   ],
   "source": [
    "model.compile(loss= \"mean_squared_error\" , optimizer=\"adam\", metrics=[\"mean_squared_error\"])\n",
    "model.fit(X_train, y_train, epochs=20)"
   ]
  },
  {
   "cell_type": "code",
   "execution_count": 31,
   "id": "13ea7ac1",
   "metadata": {},
   "outputs": [
    {
     "name": "stdout",
     "output_type": "stream",
     "text": [
      "10/10 [==============================] - 0s 2ms/step - loss: 1.1267 - mean_squared_error: 1.1267\n"
     ]
    },
    {
     "data": {
      "text/plain": [
       "[1.1267129182815552, 1.1267129182815552]"
      ]
     },
     "execution_count": 31,
     "metadata": {},
     "output_type": "execute_result"
    }
   ],
   "source": [
    "model.evaluate(X_test, y_test)"
   ]
  },
  {
   "cell_type": "code",
   "execution_count": 32,
   "id": "ccb90e17",
   "metadata": {},
   "outputs": [],
   "source": [
    "predictions = model.predict(X_test)"
   ]
  },
  {
   "cell_type": "code",
   "execution_count": 33,
   "id": "041ccdfb",
   "metadata": {},
   "outputs": [
    {
     "data": {
      "text/plain": [
       "((318, 32), (318, 1), (318, 1))"
      ]
     },
     "execution_count": 33,
     "metadata": {},
     "output_type": "execute_result"
    }
   ],
   "source": [
    "X_test.shape, y_test.shape, predictions.shape"
   ]
  },
  {
   "cell_type": "code",
   "execution_count": 34,
   "id": "6a5053af",
   "metadata": {},
   "outputs": [
    {
     "data": {
      "image/png": "[encoded data removed]",
      "text/plain": [
       "<Figure size 720x360 with 1 Axes>"
      ]
     },
     "metadata": {
      "needs_background": "light"
     },
     "output_type": "display_data"
    }
   ],
   "source": [
    "plt.figure(figsize = (10,5))\n",
    "plt.plot(y_test, c = 'green', label = \"True Values\")\n",
    "plt.plot(predictions, c = \"red\", label = \"Predictions\")\n",
    "plt.legend()\n",
    "plt.show()"
   ]
  },
  {
   "cell_type": "code",
   "execution_count": null,
   "id": "e38bdde7",
   "metadata": {},
   "outputs": [],
   "source": []
  }
 ],
 "metadata": {
  "kernelspec": {
   "display_name": "Python 3 (ipykernel)",
   "language": "python",
   "name": "python3"
  },
  "language_info": {
   "codemirror_mode": {
    "name": "ipython",
    "version": 3
   },
   "file_extension": ".py",
   "mimetype": "text/x-python",
   "name": "python",
   "nbconvert_exporter": "python",
   "pygments_lexer": "ipython3",
   "version": "3.10.2"
  }
 },
 "nbformat": 4,
 "nbformat_minor": 5
}
