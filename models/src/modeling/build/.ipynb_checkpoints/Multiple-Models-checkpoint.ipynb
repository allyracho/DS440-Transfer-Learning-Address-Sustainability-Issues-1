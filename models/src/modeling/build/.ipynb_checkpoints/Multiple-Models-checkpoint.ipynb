{
 "cells": [
  {
   "cell_type": "markdown",
   "id": "48d18c23",
   "metadata": {},
   "source": [
    "## Import Dependencies & Azure Keys"
   ]
  },
  {
   "cell_type": "code",
   "execution_count": 1,
   "id": "8253fbf3",
   "metadata": {},
   "outputs": [],
   "source": [
    "import pandas as pd\n",
    "import pyodbc\n",
    "import os\n",
    "from sklearn.ensemble import RandomForestRegressor\n",
    "import warnings\n",
    "warnings.filterwarnings(\"ignore\") # Get rid of warnings        \n",
    "from sklearn.decomposition import PCA\n",
    "import tensorflow as tf\n",
    "import matplotlib.pyplot as plt\n",
    "import numpy as np\n",
    "from faker import Faker # Make Synthetic Data\n",
    "from sklearn.svm import SVR\n",
    "\n",
    "##* Azure Keys (Don't Share) *##\n",
    "server = 'sustprediction.database.windows.net'\n",
    "database = 'sustainability'\n",
    "username = 'capstone'\n",
    "password = '{ds440@grp6}'   \n",
    "driver= '{ODBC Driver 17 for SQL Server}'"
   ]
  },
  {
   "cell_type": "markdown",
   "id": "b759a979",
   "metadata": {},
   "source": [
    "## Fetch Data NYC Version 2\n",
    "\n",
    "Retrieve NYC data from Azure SQL Database\n",
    "\n",
    "🔑 Stores Data On RAM\n"
   ]
  },
  {
   "cell_type": "code",
   "execution_count": 2,
   "id": "9c9f776a",
   "metadata": {},
   "outputs": [],
   "source": [
    "def nyc_v2():\n",
    "    \"\"\"\n",
    "    1. Get the dataset as dataframe.\n",
    "    2. Get the column names for the dataset separately from Azure.\n",
    "    \"\"\"\n",
    "\n",
    "    conn = pyodbc.connect('DRIVER='+driver+';SERVER=tcp:'+server+';PORT=1433;DATABASE='+database+';UID='+username+';PWD='+ password)\n",
    "\n",
    "    # NYC V2 Data\n",
    "    nyc = conn.cursor().execute(\"SELECT * FROM dbo.newyork_v2\").fetchall() \n",
    "    columns = conn.cursor().execute(\"SELECT * FROM sys.columns WHERE object_id = OBJECT_ID('dbo.newyork_v2')\").fetchall()\n",
    "    columns_df = pd.DataFrame([tuple(t) for t in columns])\n",
    "    list_names = list(columns_df[1])\n",
    "    nyc_df = pd.DataFrame([tuple(t) for t in nyc], columns = list_names)\n",
    "    return nyc_df"
   ]
  },
  {
   "cell_type": "code",
   "execution_count": 3,
   "id": "fb27a949",
   "metadata": {},
   "outputs": [
    {
     "data": {
      "text/html": [
       "<div>\n",
       "<style scoped>\n",
       "    .dataframe tbody tr th:only-of-type {\n",
       "        vertical-align: middle;\n",
       "    }\n",
       "\n",
       "    .dataframe tbody tr th {\n",
       "        vertical-align: top;\n",
       "    }\n",
       "\n",
       "    .dataframe thead th {\n",
       "        text-align: right;\n",
       "    }\n",
       "</style>\n",
       "<table border=\"1\" class=\"dataframe\">\n",
       "  <thead>\n",
       "    <tr style=\"text-align: right;\">\n",
       "      <th></th>\n",
       "      <th>year</th>\n",
       "      <th>week</th>\n",
       "      <th>new_york_city_diesel_average_gal</th>\n",
       "      <th>new_york_city_gas_average_gal</th>\n",
       "      <th>tempmax</th>\n",
       "      <th>tempmin</th>\n",
       "      <th>temp</th>\n",
       "      <th>feelslikemax</th>\n",
       "      <th>feelslikemin</th>\n",
       "      <th>feelslike</th>\n",
       "      <th>...</th>\n",
       "      <th>Unique_Drivers</th>\n",
       "      <th>Unique_Vehicles</th>\n",
       "      <th>Vehicles_Per_Day</th>\n",
       "      <th>Avg_Days_Vehicles_on_Road</th>\n",
       "      <th>Avg_Hours_Per_Day_Per_Vehicle</th>\n",
       "      <th>Avg_Days_Drivers_on_Road</th>\n",
       "      <th>Avg_Hours_Per_Day_Per_Driver</th>\n",
       "      <th>Avg_Minutes_Per_Trip</th>\n",
       "      <th>pm25</th>\n",
       "      <th>aqi</th>\n",
       "    </tr>\n",
       "  </thead>\n",
       "  <tbody>\n",
       "    <tr>\n",
       "      <th>0</th>\n",
       "      <td>2018</td>\n",
       "      <td>1</td>\n",
       "      <td>3.15</td>\n",
       "      <td>2.72</td>\n",
       "      <td>22.383333</td>\n",
       "      <td>12.433333</td>\n",
       "      <td>17.166667</td>\n",
       "      <td>13.2</td>\n",
       "      <td>-2.583333</td>\n",
       "      <td>4.55</td>\n",
       "      <td>...</td>\n",
       "      <td>7464</td>\n",
       "      <td>7410</td>\n",
       "      <td>3778</td>\n",
       "      <td>15.8</td>\n",
       "      <td>3.4</td>\n",
       "      <td>15.7</td>\n",
       "      <td>3.4</td>\n",
       "      <td>35</td>\n",
       "      <td>51.666667</td>\n",
       "      <td>34.142857</td>\n",
       "    </tr>\n",
       "    <tr>\n",
       "      <th>1</th>\n",
       "      <td>2018</td>\n",
       "      <td>1</td>\n",
       "      <td>3.15</td>\n",
       "      <td>2.72</td>\n",
       "      <td>22.383333</td>\n",
       "      <td>12.433333</td>\n",
       "      <td>17.166667</td>\n",
       "      <td>13.2</td>\n",
       "      <td>-2.583333</td>\n",
       "      <td>4.55</td>\n",
       "      <td>...</td>\n",
       "      <td>72719</td>\n",
       "      <td>71484</td>\n",
       "      <td>46403</td>\n",
       "      <td>20.1</td>\n",
       "      <td>6.2</td>\n",
       "      <td>19.9</td>\n",
       "      <td>6.1</td>\n",
       "      <td>18</td>\n",
       "      <td>51.666667</td>\n",
       "      <td>34.142857</td>\n",
       "    </tr>\n",
       "    <tr>\n",
       "      <th>2</th>\n",
       "      <td>2018</td>\n",
       "      <td>1</td>\n",
       "      <td>3.15</td>\n",
       "      <td>2.72</td>\n",
       "      <td>22.383333</td>\n",
       "      <td>12.433333</td>\n",
       "      <td>17.166667</td>\n",
       "      <td>13.2</td>\n",
       "      <td>-2.583333</td>\n",
       "      <td>4.55</td>\n",
       "      <td>...</td>\n",
       "      <td>13961</td>\n",
       "      <td>12751</td>\n",
       "      <td>8389</td>\n",
       "      <td>20.4</td>\n",
       "      <td>5.4</td>\n",
       "      <td>19.0</td>\n",
       "      <td>5.3</td>\n",
       "      <td>17</td>\n",
       "      <td>51.666667</td>\n",
       "      <td>34.142857</td>\n",
       "    </tr>\n",
       "    <tr>\n",
       "      <th>3</th>\n",
       "      <td>2018</td>\n",
       "      <td>1</td>\n",
       "      <td>3.15</td>\n",
       "      <td>2.72</td>\n",
       "      <td>22.383333</td>\n",
       "      <td>12.433333</td>\n",
       "      <td>17.166667</td>\n",
       "      <td>13.2</td>\n",
       "      <td>-2.583333</td>\n",
       "      <td>4.55</td>\n",
       "      <td>...</td>\n",
       "      <td>3385</td>\n",
       "      <td>3299</td>\n",
       "      <td>1378</td>\n",
       "      <td>13.0</td>\n",
       "      <td>2.2</td>\n",
       "      <td>13.1</td>\n",
       "      <td>2.2</td>\n",
       "      <td>63</td>\n",
       "      <td>51.666667</td>\n",
       "      <td>34.142857</td>\n",
       "    </tr>\n",
       "    <tr>\n",
       "      <th>4</th>\n",
       "      <td>2018</td>\n",
       "      <td>1</td>\n",
       "      <td>3.15</td>\n",
       "      <td>2.72</td>\n",
       "      <td>22.383333</td>\n",
       "      <td>12.433333</td>\n",
       "      <td>17.166667</td>\n",
       "      <td>13.2</td>\n",
       "      <td>-2.583333</td>\n",
       "      <td>4.55</td>\n",
       "      <td>...</td>\n",
       "      <td>4377</td>\n",
       "      <td>4021</td>\n",
       "      <td>2983</td>\n",
       "      <td>23.0</td>\n",
       "      <td>5.7</td>\n",
       "      <td>21.6</td>\n",
       "      <td>5.5</td>\n",
       "      <td>128</td>\n",
       "      <td>51.666667</td>\n",
       "      <td>34.142857</td>\n",
       "    </tr>\n",
       "  </tbody>\n",
       "</table>\n",
       "<p>5 rows × 34 columns</p>\n",
       "</div>"
      ],
      "text/plain": [
       "   year  week  new_york_city_diesel_average_gal  \\\n",
       "0  2018     1                              3.15   \n",
       "1  2018     1                              3.15   \n",
       "2  2018     1                              3.15   \n",
       "3  2018     1                              3.15   \n",
       "4  2018     1                              3.15   \n",
       "\n",
       "   new_york_city_gas_average_gal    tempmax    tempmin       temp  \\\n",
       "0                           2.72  22.383333  12.433333  17.166667   \n",
       "1                           2.72  22.383333  12.433333  17.166667   \n",
       "2                           2.72  22.383333  12.433333  17.166667   \n",
       "3                           2.72  22.383333  12.433333  17.166667   \n",
       "4                           2.72  22.383333  12.433333  17.166667   \n",
       "\n",
       "   feelslikemax  feelslikemin  feelslike  ...  Unique_Drivers  \\\n",
       "0          13.2     -2.583333       4.55  ...            7464   \n",
       "1          13.2     -2.583333       4.55  ...           72719   \n",
       "2          13.2     -2.583333       4.55  ...           13961   \n",
       "3          13.2     -2.583333       4.55  ...            3385   \n",
       "4          13.2     -2.583333       4.55  ...            4377   \n",
       "\n",
       "   Unique_Vehicles  Vehicles_Per_Day  Avg_Days_Vehicles_on_Road  \\\n",
       "0             7410              3778                       15.8   \n",
       "1            71484             46403                       20.1   \n",
       "2            12751              8389                       20.4   \n",
       "3             3299              1378                       13.0   \n",
       "4             4021              2983                       23.0   \n",
       "\n",
       "   Avg_Hours_Per_Day_Per_Vehicle  Avg_Days_Drivers_on_Road  \\\n",
       "0                            3.4                      15.7   \n",
       "1                            6.2                      19.9   \n",
       "2                            5.4                      19.0   \n",
       "3                            2.2                      13.1   \n",
       "4                            5.7                      21.6   \n",
       "\n",
       "   Avg_Hours_Per_Day_Per_Driver  Avg_Minutes_Per_Trip       pm25        aqi  \n",
       "0                           3.4                    35  51.666667  34.142857  \n",
       "1                           6.1                    18  51.666667  34.142857  \n",
       "2                           5.3                    17  51.666667  34.142857  \n",
       "3                           2.2                    63  51.666667  34.142857  \n",
       "4                           5.5                   128  51.666667  34.142857  \n",
       "\n",
       "[5 rows x 34 columns]"
      ]
     },
     "execution_count": 3,
     "metadata": {},
     "output_type": "execute_result"
    }
   ],
   "source": [
    "data = nyc_v2()\n",
    "data.head()"
   ]
  },
  {
   "cell_type": "markdown",
   "id": "ee4e19d8",
   "metadata": {},
   "source": [
    "## Preprocessing\n",
    "\n",
    "Steps:\n",
    "1. Set License Class as Categorical and then Encode it for ML models.\n",
    "2. AQI is an Integer, no decimal values.\n",
    "3. Train Set - Data From 2018 to 2020, Test Set - Data From 2021 only.\n",
    "4. Split Train and Test Data into Features and Labels."
   ]
  },
  {
   "cell_type": "code",
   "execution_count": 4,
   "id": "2394a9b2",
   "metadata": {
    "scrolled": true
   },
   "outputs": [
    {
     "name": "stdout",
     "output_type": "stream",
     "text": [
      "Train Data Years: [2018 2019 2020]\n",
      "Test Data Years: [2021]\n",
      "X_train Shape: (936, 32)\n",
      "X_test Shape: (318, 32)\n"
     ]
    }
   ],
   "source": [
    "data['License_Class'] = data['License_Class'].astype('category').cat.codes\n",
    "data['aqi'] = data['aqi'].astype(int)\n",
    "train = data[data['year'] != 2021]\n",
    "test = data[data['year'] == 2021]\n",
    "print(f\"Train Data Years: {train.year.unique()}\")\n",
    "print(f\"Test Data Years: {test.year.unique()}\")\n",
    "\n",
    "X_train = train.drop(['pm25','aqi'], axis = 1)\n",
    "y_train = train[['aqi']]\n",
    "X_test = test.drop(['pm25','aqi'], axis = 1)\n",
    "y_test = test[['aqi']]\n",
    "\n",
    "print(f\"X_train Shape: {X_train.shape}\")\n",
    "print(f\"X_test Shape: {X_test.shape}\")"
   ]
  },
  {
   "cell_type": "markdown",
   "id": "2d9e2480",
   "metadata": {},
   "source": [
    "### Standard Scaler\n",
    "\n",
    "Scale the data for the model"
   ]
  },
  {
   "cell_type": "code",
   "execution_count": 5,
   "id": "760ce619",
   "metadata": {},
   "outputs": [],
   "source": [
    "from sklearn.preprocessing import StandardScaler\n",
    "sc_X = StandardScaler()\n",
    "sc_y = StandardScaler()\n",
    "X_train = sc_X.fit_transform(X_train)\n",
    "y_train = sc_y.fit_transform(y_train)\n",
    "X_test = sc_X.fit_transform(X_test)\n",
    "y_test = sc_y.fit_transform(y_test)"
   ]
  },
  {
   "cell_type": "markdown",
   "id": "f53ff4ae",
   "metadata": {},
   "source": [
    "## Functions"
   ]
  },
  {
   "cell_type": "markdown",
   "id": "d88d43e8",
   "metadata": {},
   "source": [
    "### Loss Curves Plot"
   ]
  },
  {
   "cell_type": "code",
   "execution_count": 6,
   "id": "764469b0",
   "metadata": {},
   "outputs": [],
   "source": [
    "def plot_loss(history):\n",
    "    \"\"\"\n",
    "    Loss Curves of the Models - Neural Nets\n",
    "    \"\"\"\n",
    "    plt.plot(history.history['loss'], label = 'loss')\n",
    "    #plt.plot(history.history['val_loss'], label = 'val_loss')\n",
    "    plt.ylim([0, 10])\n",
    "    plt.xlabel('Epoch')\n",
    "    plt.ylabel('Error')\n",
    "    plt.legend()\n",
    "    plt.grid(True)\n",
    "    plt.show()"
   ]
  },
  {
   "cell_type": "markdown",
   "id": "45831f09",
   "metadata": {},
   "source": [
    "## Models"
   ]
  },
  {
   "cell_type": "markdown",
   "id": "878b59ee",
   "metadata": {},
   "source": [
    "### Model 1: Random Forest Regressor"
   ]
  },
  {
   "cell_type": "code",
   "execution_count": 7,
   "id": "11cedb3e",
   "metadata": {},
   "outputs": [
    {
     "name": "stdout",
     "output_type": "stream",
     "text": [
      "Random Forest Regressor Score: 3.9091901112385585\n"
     ]
    }
   ],
   "source": [
    "np.random.seed(44)\n",
    "rfr = RandomForestRegressor(n_estimators=200, criterion=\"mse\", \n",
    "                            min_samples_leaf=3, min_samples_split=3, \n",
    "                            max_depth=5, random_state = 44).fit(X_train, y_train)\n",
    "\n",
    "print(f\"Random Forest Regressor Score: {rfr.score(X_test, y_test) * 100}\")"
   ]
  },
  {
   "cell_type": "markdown",
   "id": "8bf2abdf",
   "metadata": {},
   "source": [
    "### Model 2: SVM"
   ]
  },
  {
   "cell_type": "code",
   "execution_count": 9,
   "id": "332e029c",
   "metadata": {},
   "outputs": [
    {
     "name": "stdout",
     "output_type": "stream",
     "text": [
      "Support Vector Machines: -18.846528996700318\n"
     ]
    }
   ],
   "source": [
    "np.random.seed(44)\n",
    "regressor = SVR(kernel = 'rbf').fit(X_train, y_train)\n",
    "print(f\"Support Vector Machines: {regressor.score(X_test, y_test) * 100}\")"
   ]
  },
  {
   "cell_type": "markdown",
   "id": "aede6495",
   "metadata": {},
   "source": [
    "### Model 3: Sequential"
   ]
  },
  {
   "cell_type": "code",
   "execution_count": 12,
   "id": "2077aaac",
   "metadata": {},
   "outputs": [
    {
     "name": "stderr",
     "output_type": "stream",
     "text": [
      "2022-03-14 23:26:36.230453: I tensorflow/core/platform/cpu_feature_guard.cc:151] This TensorFlow binary is optimized with oneAPI Deep Neural Network Library (oneDNN) to use the following CPU instructions in performance-critical operations:  AVX2 FMA\n",
      "To enable them in other operations, rebuild TensorFlow with the appropriate compiler flags.\n"
     ]
    }
   ],
   "source": [
    "# Build Fully Connect Neural Net using Sequential API\n",
    "\n",
    "tf.random.set_seed(44)\n",
    "model = tf.keras.Sequential()\n",
    "model.add(tf.keras.layers.Dense(500, input_dim=32, activation= \"relu\"))\n",
    "model.add(tf.keras.layers.Dense(500, activation = \"relu\"))\n",
    "model.add(tf.keras.layers.Dense(100, activation= \"relu\"))\n",
    "model.add(tf.keras.layers.Dense(50, activation= \"sigmoid\"))\n",
    "model.add(tf.keras.layers.Dense(1))"
   ]
  },
  {
   "cell_type": "code",
   "execution_count": 13,
   "id": "54d39c6b",
   "metadata": {},
   "outputs": [
    {
     "name": "stdout",
     "output_type": "stream",
     "text": [
      "Model: \"sequential\"\n",
      "_________________________________________________________________\n",
      " Layer (type)                Output Shape              Param #   \n",
      "=================================================================\n",
      " dense (Dense)               (None, 500)               16500     \n",
      "                                                                 \n",
      " dense_1 (Dense)             (None, 500)               250500    \n",
      "                                                                 \n",
      " dense_2 (Dense)             (None, 100)               50100     \n",
      "                                                                 \n",
      " dense_3 (Dense)             (None, 50)                5050      \n",
      "                                                                 \n",
      " dense_4 (Dense)             (None, 1)                 51        \n",
      "                                                                 \n",
      "=================================================================\n",
      "Total params: 322,201\n",
      "Trainable params: 322,201\n",
      "Non-trainable params: 0\n",
      "_________________________________________________________________\n"
     ]
    }
   ],
   "source": [
    "model.summary()"
   ]
  },
  {
   "cell_type": "code",
   "execution_count": 14,
   "id": "1c2c9564",
   "metadata": {},
   "outputs": [],
   "source": [
    "# Compile and Fit Model\n",
    "tf.random.set_seed(44)\n",
    "model.compile(loss= \"mean_squared_error\" , optimizer=\"adam\", metrics=[\"mean_squared_error\"])\n",
    "history_1 = model.fit(X_train, y_train, epochs=50, verbose = 0)"
   ]
  },
  {
   "cell_type": "code",
   "execution_count": 15,
   "id": "13ea7ac1",
   "metadata": {},
   "outputs": [
    {
     "name": "stdout",
     "output_type": "stream",
     "text": [
      "10/10 [==============================] - 0s 2ms/step - loss: 1.1399 - mean_squared_error: 1.1399\n"
     ]
    },
    {
     "data": {
      "text/plain": [
       "[1.139925241470337, 1.139925241470337]"
      ]
     },
     "execution_count": 15,
     "metadata": {},
     "output_type": "execute_result"
    }
   ],
   "source": [
    "# Evaluate Model on Test Data\n",
    "model.evaluate(X_test, y_test)"
   ]
  },
  {
   "cell_type": "code",
   "execution_count": 16,
   "id": "ccb90e17",
   "metadata": {},
   "outputs": [],
   "source": [
    "# Make Predictions\n",
    "predictions = model.predict(X_test)"
   ]
  },
  {
   "cell_type": "code",
   "execution_count": 17,
   "id": "6a5053af",
   "metadata": {},
   "outputs": [
    {
     "data": {
      "image/png": "[encoded data removed]",
      "text/plain": [
       "<Figure size 720x360 with 1 Axes>"
      ]
     },
     "metadata": {
      "needs_background": "light"
     },
     "output_type": "display_data"
    }
   ],
   "source": [
    "# Plot True Values and Predictions\n",
    "plt.figure(figsize = (10,5))\n",
    "plt.plot(y_test, c = 'green', label = \"True Values\")\n",
    "plt.plot(predictions, c = \"red\", label = \"Predictions\")\n",
    "plt.legend()\n",
    "plt.show()"
   ]
  },
  {
   "cell_type": "code",
   "execution_count": 18,
   "id": "e38bdde7",
   "metadata": {},
   "outputs": [
    {
     "data": {
      "image/png": "[encoded data removed]",
      "text/plain": [
       "<Figure size 432x288 with 1 Axes>"
      ]
     },
     "metadata": {
      "needs_background": "light"
     },
     "output_type": "display_data"
    }
   ],
   "source": [
    "# Plot Loss Curves\n",
    "plot_loss(history_1)"
   ]
  },
  {
   "cell_type": "code",
   "execution_count": 19,
   "id": "1636367c",
   "metadata": {},
   "outputs": [
    {
     "name": "stderr",
     "output_type": "stream",
     "text": [
      "2022-03-14 23:34:17.814010: W tensorflow/python/util/util.cc:368] Sets are not currently considered sequences, but this may change in the future, so consider avoiding using them.\n"
     ]
    },
    {
     "name": "stdout",
     "output_type": "stream",
     "text": [
      "INFO:tensorflow:Assets written to: Models/Model_1/assets\n"
     ]
    }
   ],
   "source": [
    "# Save Model\n",
    "model.save('Models/Model_1')"
   ]
  },
  {
   "cell_type": "markdown",
   "id": "1ec834a1",
   "metadata": {},
   "source": [
    "## Preprocess \n",
    "Create Synthetic Data Using `Train` Data and Check Chi Squared Distribution and Plot the Distribution"
   ]
  },
  {
   "cell_type": "code",
   "execution_count": null,
   "id": "21942fa6",
   "metadata": {},
   "outputs": [],
   "source": []
  }
 ],
 "metadata": {
  "kernelspec": {
   "display_name": "Python 3 (ipykernel)",
   "language": "python",
   "name": "python3"
  },
  "language_info": {
   "codemirror_mode": {
    "name": "ipython",
    "version": 3
   },
   "file_extension": ".py",
   "mimetype": "text/x-python",
   "name": "python",
   "nbconvert_exporter": "python",
   "pygments_lexer": "ipython3",
   "version": "3.10.2"
  }
 },
 "nbformat": 4,
 "nbformat_minor": 5
}
